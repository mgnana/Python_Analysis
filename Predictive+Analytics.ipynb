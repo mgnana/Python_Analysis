{
 "cells": [
  {
   "cell_type": "markdown",
   "metadata": {},
   "source": [
    "# Identifying factors that affect sales  "
   ]
  },
  {
   "cell_type": "markdown",
   "metadata": {},
   "source": [
    "# Problem Statement : The franchisee of Store B, Mr. Choe, is interested in identifying the factors that affect sales in his store and the extent to which these factors affect sales."
   ]
  },
  {
   "cell_type": "markdown",
   "metadata": {},
   "source": [
    "Seoul Retail Case\n",
    "Case Study\n",
    "Store B is located in an exclusive shopping district in Seoul, South Korea. Mr. Choe would like to know about the factors that affect sales in each store and the importance of each factor. Mr. Choe plans to use these identified factors for sales and operations planning in his store. \n",
    "Process \n",
    "To study the impact of the different variable for store B, we split the dataset based on each store and performed predictive modeling separately.  \n",
    "The independent variables are - Store ID, Store Name, Number of Customers, Number of Items Sold, Discount, Average Sales per Customer, Average Sales per Item, Date, Day of the week, Distances from Metro Stations X and Y, Distance from the nearest main thoroughfare.\n",
    "The dependent variable is Total Sales.\n",
    "Linear Regression was used to study the impact of the independent variables on the dependent variable separately for every store.\n",
    "\n",
    "\n",
    "Data Preparation\n",
    "Feature Engineering\n",
    "Categorical Variables\n",
    " Dummy coding is a commonly used method for converting a categorical input variable into a continuous variable. ‘Dummy,’ as the name suggests is a duplicate variable which represents one level of a categorical variable. Presence of a level is represented by 1 and absence is represented by 0. For every level present, one dummy variable will be created.\n",
    "We used dummy coding for categorical variables like Outlook, Months and Weekdays to study the granular impact of every level. We used the python library pandas.get_dummies to achieve this.\n",
    "Variable Transformation\n",
    "1) IMP_Japanese_Tourists is skewed to the right, so we applied log transformation\n",
    "2) Discount is skewed to the right, so we applied log transformation.\n",
    "3) YenWonRatio  is skewed to the l, so we applied the square transformation\n",
    "\n",
    "Variable Imputation\n",
    "The Japanese tourist variable has many missing values. We have imputed them using Means through the Tree method. \n",
    "Rejected variables\n",
    "No_of_Customers, No_of_Items, Avg_Sales_per_Customer, Avg_Sales_per_Item, Code were rejected since they do not convey any impactful insight as a predictor. \n",
    "Distance_from_Main_Street_Meter, Distance_from_Station_X_Meter,Distance_from_Station_Y_Meter were rejected for Store B. \n"
   ]
  },
  {
   "cell_type": "code",
   "execution_count": 3,
   "metadata": {
    "collapsed": true
   },
   "outputs": [],
   "source": [
    "import pandas as pd \n",
    "from pandas import DataFrame, Series\n",
    "import numpy as np\n",
    "import seaborn as sns\n",
    "import matplotlib.pyplot as plt\n",
    "%matplotlib inline"
   ]
  },
  {
   "cell_type": "code",
   "execution_count": 4,
   "metadata": {
    "collapsed": true
   },
   "outputs": [],
   "source": [
    "#Loading Seoul data set "
   ]
  },
  {
   "cell_type": "code",
   "execution_count": 5,
   "metadata": {},
   "outputs": [],
   "source": [
    "korea_df = pd.read_csv('C:/Users/marga/Noteboooks/.ipynb_checkpoints/korea_data.csv', low_memory = False)"
   ]
  },
  {
   "cell_type": "code",
   "execution_count": 6,
   "metadata": {},
   "outputs": [
    {
     "data": {
      "text/html": [
       "<div>\n",
       "<style>\n",
       "    .dataframe thead tr:only-child th {\n",
       "        text-align: right;\n",
       "    }\n",
       "\n",
       "    .dataframe thead th {\n",
       "        text-align: left;\n",
       "    }\n",
       "\n",
       "    .dataframe tbody tr th {\n",
       "        vertical-align: top;\n",
       "    }\n",
       "</style>\n",
       "<table border=\"1\" class=\"dataframe\">\n",
       "  <thead>\n",
       "    <tr style=\"text-align: right;\">\n",
       "      <th></th>\n",
       "      <th>Code</th>\n",
       "      <th>Store Name</th>\n",
       "      <th># of Customers</th>\n",
       "      <th># of Items</th>\n",
       "      <th>Total Sales</th>\n",
       "      <th>Discount</th>\n",
       "      <th>Avg Sales per Customer</th>\n",
       "      <th>Avg Sales per Item</th>\n",
       "      <th>Date</th>\n",
       "      <th>Month</th>\n",
       "      <th>...</th>\n",
       "      <th>Distance from Station X(Feet)</th>\n",
       "      <th>Distance from Station Y(Meter)</th>\n",
       "      <th>Distance from Station Y(Feet)</th>\n",
       "      <th>Distance from Main Street(Meter)</th>\n",
       "      <th>Distance from Main Street(Feet)</th>\n",
       "      <th>YenWonRatio</th>\n",
       "      <th>Holiday</th>\n",
       "      <th>ActualHighTemp</th>\n",
       "      <th>Outlook</th>\n",
       "      <th>Japanese Tourists</th>\n",
       "    </tr>\n",
       "  </thead>\n",
       "  <tbody>\n",
       "    <tr>\n",
       "      <th>0</th>\n",
       "      <td>20002</td>\n",
       "      <td>Store A</td>\n",
       "      <td>289</td>\n",
       "      <td>2528</td>\n",
       "      <td>19579200</td>\n",
       "      <td>0</td>\n",
       "      <td>67748</td>\n",
       "      <td>7745</td>\n",
       "      <td>9/1/2011</td>\n",
       "      <td>9</td>\n",
       "      <td>...</td>\n",
       "      <td>820</td>\n",
       "      <td>500</td>\n",
       "      <td>1640</td>\n",
       "      <td>220</td>\n",
       "      <td>722</td>\n",
       "      <td></td>\n",
       "      <td>0</td>\n",
       "      <td>87</td>\n",
       "      <td>NaN</td>\n",
       "      <td>NaN</td>\n",
       "    </tr>\n",
       "    <tr>\n",
       "      <th>1</th>\n",
       "      <td>20002</td>\n",
       "      <td>Store A</td>\n",
       "      <td>230</td>\n",
       "      <td>2404</td>\n",
       "      <td>20031700</td>\n",
       "      <td>0</td>\n",
       "      <td>87094</td>\n",
       "      <td>8333</td>\n",
       "      <td>9/2/2011</td>\n",
       "      <td>9</td>\n",
       "      <td>...</td>\n",
       "      <td>820</td>\n",
       "      <td>500</td>\n",
       "      <td>1640</td>\n",
       "      <td>220</td>\n",
       "      <td>722</td>\n",
       "      <td>13.83</td>\n",
       "      <td>0</td>\n",
       "      <td>89</td>\n",
       "      <td>NaN</td>\n",
       "      <td>NaN</td>\n",
       "    </tr>\n",
       "    <tr>\n",
       "      <th>2</th>\n",
       "      <td>20002</td>\n",
       "      <td>Store A</td>\n",
       "      <td>244</td>\n",
       "      <td>2018</td>\n",
       "      <td>20681800</td>\n",
       "      <td>0</td>\n",
       "      <td>84761</td>\n",
       "      <td>10249</td>\n",
       "      <td>9/3/2011</td>\n",
       "      <td>9</td>\n",
       "      <td>...</td>\n",
       "      <td>820</td>\n",
       "      <td>500</td>\n",
       "      <td>1640</td>\n",
       "      <td>220</td>\n",
       "      <td>722</td>\n",
       "      <td>13.83</td>\n",
       "      <td>0</td>\n",
       "      <td>87</td>\n",
       "      <td>Cloudy</td>\n",
       "      <td>NaN</td>\n",
       "    </tr>\n",
       "    <tr>\n",
       "      <th>3</th>\n",
       "      <td>20002</td>\n",
       "      <td>Store A</td>\n",
       "      <td>230</td>\n",
       "      <td>1875</td>\n",
       "      <td>21673500</td>\n",
       "      <td>0</td>\n",
       "      <td>94233</td>\n",
       "      <td>11559</td>\n",
       "      <td>9/4/2011</td>\n",
       "      <td>9</td>\n",
       "      <td>...</td>\n",
       "      <td>820</td>\n",
       "      <td>500</td>\n",
       "      <td>1640</td>\n",
       "      <td>220</td>\n",
       "      <td>722</td>\n",
       "      <td>13.85</td>\n",
       "      <td>0</td>\n",
       "      <td>84</td>\n",
       "      <td>Cloudy</td>\n",
       "      <td>NaN</td>\n",
       "    </tr>\n",
       "    <tr>\n",
       "      <th>4</th>\n",
       "      <td>20002</td>\n",
       "      <td>Store A</td>\n",
       "      <td>306</td>\n",
       "      <td>2327</td>\n",
       "      <td>21652200</td>\n",
       "      <td>0</td>\n",
       "      <td>70759</td>\n",
       "      <td>9305</td>\n",
       "      <td>9/5/2011</td>\n",
       "      <td>9</td>\n",
       "      <td>...</td>\n",
       "      <td>820</td>\n",
       "      <td>500</td>\n",
       "      <td>1640</td>\n",
       "      <td>220</td>\n",
       "      <td>722</td>\n",
       "      <td>13.85</td>\n",
       "      <td>0</td>\n",
       "      <td>82</td>\n",
       "      <td>Sunny</td>\n",
       "      <td>NaN</td>\n",
       "    </tr>\n",
       "  </tbody>\n",
       "</table>\n",
       "<p>5 rows × 23 columns</p>\n",
       "</div>"
      ],
      "text/plain": [
       "    Code Store Name  # of Customers  # of Items  Total Sales  Discount  \\\n",
       "0  20002    Store A             289        2528     19579200         0   \n",
       "1  20002    Store A             230        2404     20031700         0   \n",
       "2  20002    Store A             244        2018     20681800         0   \n",
       "3  20002    Store A             230        1875     21673500         0   \n",
       "4  20002    Store A             306        2327     21652200         0   \n",
       "\n",
       "   Avg Sales per Customer  Avg Sales per Item      Date  Month  \\\n",
       "0                   67748                7745  9/1/2011      9   \n",
       "1                   87094                8333  9/2/2011      9   \n",
       "2                   84761               10249  9/3/2011      9   \n",
       "3                   94233               11559  9/4/2011      9   \n",
       "4                   70759                9305  9/5/2011      9   \n",
       "\n",
       "         ...          Distance from Station X(Feet)  \\\n",
       "0        ...                                    820   \n",
       "1        ...                                    820   \n",
       "2        ...                                    820   \n",
       "3        ...                                    820   \n",
       "4        ...                                    820   \n",
       "\n",
       "  Distance from Station Y(Meter)  Distance from Station Y(Feet)  \\\n",
       "0                            500                           1640   \n",
       "1                            500                           1640   \n",
       "2                            500                           1640   \n",
       "3                            500                           1640   \n",
       "4                            500                           1640   \n",
       "\n",
       "   Distance from Main Street(Meter)  Distance from Main Street(Feet)  \\\n",
       "0                               220                              722   \n",
       "1                               220                              722   \n",
       "2                               220                              722   \n",
       "3                               220                              722   \n",
       "4                               220                              722   \n",
       "\n",
       "   YenWonRatio  Holiday  ActualHighTemp Outlook  Japanese Tourists  \n",
       "0                     0              87     NaN                NaN  \n",
       "1        13.83        0              89     NaN                NaN  \n",
       "2        13.83        0              87  Cloudy                NaN  \n",
       "3        13.85        0              84  Cloudy                NaN  \n",
       "4        13.85        0              82   Sunny                NaN  \n",
       "\n",
       "[5 rows x 23 columns]"
      ]
     },
     "execution_count": 6,
     "metadata": {},
     "output_type": "execute_result"
    }
   ],
   "source": [
    "korea_df.head()"
   ]
  },
  {
   "cell_type": "markdown",
   "metadata": {},
   "source": [
    "What are the unique store names?"
   ]
  },
  {
   "cell_type": "code",
   "execution_count": 7,
   "metadata": {},
   "outputs": [
    {
     "data": {
      "text/plain": [
       "array(['Store A', 'Store B', 'Store C', 'Store D', 'Store E'], dtype=object)"
      ]
     },
     "execution_count": 7,
     "metadata": {},
     "output_type": "execute_result"
    }
   ],
   "source": [
    "korea_df['Store Name'].unique()"
   ]
  },
  {
   "cell_type": "markdown",
   "metadata": {},
   "source": [
    "We have 5 stores, lets filter for only Store B"
   ]
  },
  {
   "cell_type": "code",
   "execution_count": 8,
   "metadata": {},
   "outputs": [
    {
     "data": {
      "text/plain": [
       "Index(['Code', 'Store Name', '# of Customers', '# of Items', 'Total Sales',\n",
       "       'Discount', 'Avg Sales per Customer', 'Avg Sales per Item', 'Date',\n",
       "       'Month', 'Year', 'Weekday', 'Distance from Station X(Meter)',\n",
       "       'Distance from Station X(Feet)', 'Distance from Station Y(Meter)',\n",
       "       'Distance from Station Y(Feet)', 'Distance from Main Street(Meter)',\n",
       "       'Distance from Main Street(Feet)', 'YenWonRatio', 'Holiday',\n",
       "       'ActualHighTemp', 'Outlook', 'Japanese Tourists'],\n",
       "      dtype='object')"
      ]
     },
     "execution_count": 8,
     "metadata": {},
     "output_type": "execute_result"
    }
   ],
   "source": [
    "korea_df.columns"
   ]
  },
  {
   "cell_type": "code",
   "execution_count": 9,
   "metadata": {
    "collapsed": true
   },
   "outputs": [],
   "source": [
    "is_storeB = korea_df['Store Name'] == 'Store B'"
   ]
  },
  {
   "cell_type": "code",
   "execution_count": 10,
   "metadata": {},
   "outputs": [
    {
     "data": {
      "text/plain": [
       "False    1984\n",
       "True      563\n",
       "Name: Store Name, dtype: int64"
      ]
     },
     "execution_count": 10,
     "metadata": {},
     "output_type": "execute_result"
    }
   ],
   "source": [
    "is_storeB.value_counts()"
   ]
  },
  {
   "cell_type": "code",
   "execution_count": 11,
   "metadata": {},
   "outputs": [
    {
     "name": "stdout",
     "output_type": "stream",
     "text": [
      "(563, 23)\n"
     ]
    }
   ],
   "source": [
    "korea_storeB = korea_df[is_storeB]\n",
    "print(korea_storeB.shape)"
   ]
  },
  {
   "cell_type": "markdown",
   "metadata": {},
   "source": [
    "We have successfully filtered pandas dataframe based on values of a colum. Here all the values of the variable Store Name will be Store B "
   ]
  },
  {
   "cell_type": "code",
   "execution_count": 12,
   "metadata": {},
   "outputs": [
    {
     "data": {
      "text/html": [
       "<div>\n",
       "<style>\n",
       "    .dataframe thead tr:only-child th {\n",
       "        text-align: right;\n",
       "    }\n",
       "\n",
       "    .dataframe thead th {\n",
       "        text-align: left;\n",
       "    }\n",
       "\n",
       "    .dataframe tbody tr th {\n",
       "        vertical-align: top;\n",
       "    }\n",
       "</style>\n",
       "<table border=\"1\" class=\"dataframe\">\n",
       "  <thead>\n",
       "    <tr style=\"text-align: right;\">\n",
       "      <th></th>\n",
       "      <th>Code</th>\n",
       "      <th>Store Name</th>\n",
       "      <th># of Customers</th>\n",
       "      <th># of Items</th>\n",
       "      <th>Total Sales</th>\n",
       "      <th>Discount</th>\n",
       "      <th>Avg Sales per Customer</th>\n",
       "      <th>Avg Sales per Item</th>\n",
       "      <th>Date</th>\n",
       "      <th>Month</th>\n",
       "      <th>...</th>\n",
       "      <th>Distance from Station X(Feet)</th>\n",
       "      <th>Distance from Station Y(Meter)</th>\n",
       "      <th>Distance from Station Y(Feet)</th>\n",
       "      <th>Distance from Main Street(Meter)</th>\n",
       "      <th>Distance from Main Street(Feet)</th>\n",
       "      <th>YenWonRatio</th>\n",
       "      <th>Holiday</th>\n",
       "      <th>ActualHighTemp</th>\n",
       "      <th>Outlook</th>\n",
       "      <th>Japanese Tourists</th>\n",
       "    </tr>\n",
       "  </thead>\n",
       "  <tbody>\n",
       "    <tr>\n",
       "      <th>469</th>\n",
       "      <td>20288</td>\n",
       "      <td>Store B</td>\n",
       "      <td>257</td>\n",
       "      <td>1474</td>\n",
       "      <td>8974800</td>\n",
       "      <td>0</td>\n",
       "      <td>34921</td>\n",
       "      <td>6089</td>\n",
       "      <td>9/1/2011</td>\n",
       "      <td>9</td>\n",
       "      <td>...</td>\n",
       "      <td>591</td>\n",
       "      <td>550</td>\n",
       "      <td>1804</td>\n",
       "      <td>230</td>\n",
       "      <td>755</td>\n",
       "      <td>13.93</td>\n",
       "      <td>0</td>\n",
       "      <td>87</td>\n",
       "      <td>NaN</td>\n",
       "      <td>NaN</td>\n",
       "    </tr>\n",
       "    <tr>\n",
       "      <th>470</th>\n",
       "      <td>20288</td>\n",
       "      <td>Store B</td>\n",
       "      <td>260</td>\n",
       "      <td>1769</td>\n",
       "      <td>12861500</td>\n",
       "      <td>0</td>\n",
       "      <td>49467</td>\n",
       "      <td>7270</td>\n",
       "      <td>9/2/2011</td>\n",
       "      <td>9</td>\n",
       "      <td>...</td>\n",
       "      <td>591</td>\n",
       "      <td>550</td>\n",
       "      <td>1804</td>\n",
       "      <td>230</td>\n",
       "      <td>755</td>\n",
       "      <td>13.83</td>\n",
       "      <td>0</td>\n",
       "      <td>89</td>\n",
       "      <td>NaN</td>\n",
       "      <td>NaN</td>\n",
       "    </tr>\n",
       "    <tr>\n",
       "      <th>471</th>\n",
       "      <td>20288</td>\n",
       "      <td>Store B</td>\n",
       "      <td>196</td>\n",
       "      <td>1383</td>\n",
       "      <td>10509400</td>\n",
       "      <td>0</td>\n",
       "      <td>53619</td>\n",
       "      <td>7599</td>\n",
       "      <td>9/3/2011</td>\n",
       "      <td>9</td>\n",
       "      <td>...</td>\n",
       "      <td>591</td>\n",
       "      <td>550</td>\n",
       "      <td>1804</td>\n",
       "      <td>230</td>\n",
       "      <td>755</td>\n",
       "      <td>13.83</td>\n",
       "      <td>0</td>\n",
       "      <td>87</td>\n",
       "      <td>Cloudy</td>\n",
       "      <td>NaN</td>\n",
       "    </tr>\n",
       "    <tr>\n",
       "      <th>472</th>\n",
       "      <td>20288</td>\n",
       "      <td>Store B</td>\n",
       "      <td>171</td>\n",
       "      <td>1004</td>\n",
       "      <td>7741700</td>\n",
       "      <td>0</td>\n",
       "      <td>45273</td>\n",
       "      <td>7711</td>\n",
       "      <td>9/4/2011</td>\n",
       "      <td>9</td>\n",
       "      <td>...</td>\n",
       "      <td>591</td>\n",
       "      <td>550</td>\n",
       "      <td>1804</td>\n",
       "      <td>230</td>\n",
       "      <td>755</td>\n",
       "      <td>13.85</td>\n",
       "      <td>0</td>\n",
       "      <td>84</td>\n",
       "      <td>Cloudy</td>\n",
       "      <td>NaN</td>\n",
       "    </tr>\n",
       "    <tr>\n",
       "      <th>473</th>\n",
       "      <td>20288</td>\n",
       "      <td>Store B</td>\n",
       "      <td>184</td>\n",
       "      <td>1295</td>\n",
       "      <td>11250500</td>\n",
       "      <td>0</td>\n",
       "      <td>61144</td>\n",
       "      <td>8688</td>\n",
       "      <td>9/5/2011</td>\n",
       "      <td>9</td>\n",
       "      <td>...</td>\n",
       "      <td>591</td>\n",
       "      <td>550</td>\n",
       "      <td>1804</td>\n",
       "      <td>230</td>\n",
       "      <td>755</td>\n",
       "      <td>13.85</td>\n",
       "      <td>0</td>\n",
       "      <td>82</td>\n",
       "      <td>Sunny</td>\n",
       "      <td>NaN</td>\n",
       "    </tr>\n",
       "  </tbody>\n",
       "</table>\n",
       "<p>5 rows × 23 columns</p>\n",
       "</div>"
      ],
      "text/plain": [
       "      Code Store Name  # of Customers  # of Items  Total Sales  Discount  \\\n",
       "469  20288    Store B             257        1474      8974800         0   \n",
       "470  20288    Store B             260        1769     12861500         0   \n",
       "471  20288    Store B             196        1383     10509400         0   \n",
       "472  20288    Store B             171        1004      7741700         0   \n",
       "473  20288    Store B             184        1295     11250500         0   \n",
       "\n",
       "     Avg Sales per Customer  Avg Sales per Item      Date  Month  \\\n",
       "469                   34921                6089  9/1/2011      9   \n",
       "470                   49467                7270  9/2/2011      9   \n",
       "471                   53619                7599  9/3/2011      9   \n",
       "472                   45273                7711  9/4/2011      9   \n",
       "473                   61144                8688  9/5/2011      9   \n",
       "\n",
       "           ...          Distance from Station X(Feet)  \\\n",
       "469        ...                                    591   \n",
       "470        ...                                    591   \n",
       "471        ...                                    591   \n",
       "472        ...                                    591   \n",
       "473        ...                                    591   \n",
       "\n",
       "    Distance from Station Y(Meter)  Distance from Station Y(Feet)  \\\n",
       "469                            550                           1804   \n",
       "470                            550                           1804   \n",
       "471                            550                           1804   \n",
       "472                            550                           1804   \n",
       "473                            550                           1804   \n",
       "\n",
       "     Distance from Main Street(Meter)  Distance from Main Street(Feet)  \\\n",
       "469                               230                              755   \n",
       "470                               230                              755   \n",
       "471                               230                              755   \n",
       "472                               230                              755   \n",
       "473                               230                              755   \n",
       "\n",
       "     YenWonRatio  Holiday  ActualHighTemp Outlook  Japanese Tourists  \n",
       "469        13.93        0              87     NaN                NaN  \n",
       "470        13.83        0              89     NaN                NaN  \n",
       "471        13.83        0              87  Cloudy                NaN  \n",
       "472        13.85        0              84  Cloudy                NaN  \n",
       "473        13.85        0              82   Sunny                NaN  \n",
       "\n",
       "[5 rows x 23 columns]"
      ]
     },
     "execution_count": 12,
     "metadata": {},
     "output_type": "execute_result"
    }
   ],
   "source": [
    "korea_storeB.head()"
   ]
  },
  {
   "cell_type": "code",
   "execution_count": 13,
   "metadata": {
    "collapsed": true
   },
   "outputs": [],
   "source": [
    "#Checking to see the unique values of store name contains only store B"
   ]
  },
  {
   "cell_type": "code",
   "execution_count": 14,
   "metadata": {},
   "outputs": [
    {
     "data": {
      "text/plain": [
       "array(['Store B'], dtype=object)"
      ]
     },
     "execution_count": 14,
     "metadata": {},
     "output_type": "execute_result"
    }
   ],
   "source": [
    "korea_storeB['Store Name'].unique()"
   ]
  },
  {
   "cell_type": "markdown",
   "metadata": {},
   "source": [
    "Checking for the unique values of 'Outlook' column"
   ]
  },
  {
   "cell_type": "code",
   "execution_count": 15,
   "metadata": {},
   "outputs": [
    {
     "data": {
      "text/plain": [
       "array([nan, 'Cloudy', 'Sunny', 'Rainy', 'Snowy', 'cloudy', 'rainy'], dtype=object)"
      ]
     },
     "execution_count": 15,
     "metadata": {},
     "output_type": "execute_result"
    }
   ],
   "source": [
    "korea_storeB['Outlook'].unique()"
   ]
  },
  {
   "cell_type": "markdown",
   "metadata": {},
   "source": [
    "Here we can see that the values are unstandardised. Lets make cloudy = Cloudy and rainy = Rainy to ensure the data quality"
   ]
  },
  {
   "cell_type": "code",
   "execution_count": 16,
   "metadata": {},
   "outputs": [
    {
     "name": "stderr",
     "output_type": "stream",
     "text": [
      "C:\\Users\\marga\\Anaconda3\\lib\\site-packages\\ipykernel_launcher.py:1: SettingWithCopyWarning: \n",
      "A value is trying to be set on a copy of a slice from a DataFrame.\n",
      "Try using .loc[row_indexer,col_indexer] = value instead\n",
      "\n",
      "See the caveats in the documentation: http://pandas.pydata.org/pandas-docs/stable/indexing.html#indexing-view-versus-copy\n",
      "  \"\"\"Entry point for launching an IPython kernel.\n"
     ]
    }
   ],
   "source": [
    "korea_storeB['Outlook'] = korea_storeB['Outlook'].replace(['rainy'], 'Rainy')\n"
   ]
  },
  {
   "cell_type": "code",
   "execution_count": 17,
   "metadata": {},
   "outputs": [
    {
     "data": {
      "text/plain": [
       "array([nan, 'Cloudy', 'Sunny', 'Rainy', 'Snowy', 'cloudy'], dtype=object)"
      ]
     },
     "execution_count": 17,
     "metadata": {},
     "output_type": "execute_result"
    }
   ],
   "source": [
    "korea_storeB['Outlook'].unique()\n",
    "#Here we can see that 'rainy' has successfully been replaced by 'Rainy'"
   ]
  },
  {
   "cell_type": "code",
   "execution_count": 18,
   "metadata": {},
   "outputs": [
    {
     "name": "stderr",
     "output_type": "stream",
     "text": [
      "C:\\Users\\marga\\Anaconda3\\lib\\site-packages\\ipykernel_launcher.py:1: SettingWithCopyWarning: \n",
      "A value is trying to be set on a copy of a slice from a DataFrame.\n",
      "Try using .loc[row_indexer,col_indexer] = value instead\n",
      "\n",
      "See the caveats in the documentation: http://pandas.pydata.org/pandas-docs/stable/indexing.html#indexing-view-versus-copy\n",
      "  \"\"\"Entry point for launching an IPython kernel.\n"
     ]
    }
   ],
   "source": [
    "korea_storeB['Outlook'] = korea_storeB['Outlook'].replace(['cloudy'], 'Cloudy')"
   ]
  },
  {
   "cell_type": "code",
   "execution_count": 19,
   "metadata": {},
   "outputs": [
    {
     "data": {
      "text/plain": [
       "array([nan, 'Cloudy', 'Sunny', 'Rainy', 'Snowy'], dtype=object)"
      ]
     },
     "execution_count": 19,
     "metadata": {},
     "output_type": "execute_result"
    }
   ],
   "source": [
    "korea_storeB['Outlook'].unique()\n",
    "#Here we can see that 'cloudy' has successfully been replaced by 'Cloudy'"
   ]
  },
  {
   "cell_type": "code",
   "execution_count": 20,
   "metadata": {},
   "outputs": [
    {
     "data": {
      "text/plain": [
       "<seaborn.axisgrid.FacetGrid at 0x1a28cc5eda0>"
      ]
     },
     "execution_count": 20,
     "metadata": {},
     "output_type": "execute_result"
    },
    {
     "data": {
      "image/png": "[encoded data removed]",
      "text/plain": [
       "<matplotlib.figure.Figure at 0x1a28d5e0b70>"
      ]
     },
     "metadata": {},
     "output_type": "display_data"
    }
   ],
   "source": [
    "sns.factorplot(\"Outlook\",data=korea_storeB, kind = \"count\")"
   ]
  },
  {
   "cell_type": "markdown",
   "metadata": {},
   "source": [
    "Here we can see that the count of Sunny days is more than that of cloudy, rainy or snowy days"
   ]
  },
  {
   "cell_type": "markdown",
   "metadata": {},
   "source": [
    "Lets now have a look at the distribution of Japanese tourists in the dataset. Since its a continuous dataset, lets use a histogram to represent this."
   ]
  },
  {
   "cell_type": "code",
   "execution_count": 21,
   "metadata": {
    "collapsed": true
   },
   "outputs": [],
   "source": [
    "histo = korea_storeB['Japanese Tourists']"
   ]
  },
  {
   "cell_type": "code",
   "execution_count": 22,
   "metadata": {},
   "outputs": [
    {
     "data": {
      "text/html": [
       "<div>\n",
       "<style>\n",
       "    .dataframe thead tr:only-child th {\n",
       "        text-align: right;\n",
       "    }\n",
       "\n",
       "    .dataframe thead th {\n",
       "        text-align: left;\n",
       "    }\n",
       "\n",
       "    .dataframe tbody tr th {\n",
       "        vertical-align: top;\n",
       "    }\n",
       "</style>\n",
       "<table border=\"1\" class=\"dataframe\">\n",
       "  <thead>\n",
       "    <tr style=\"text-align: right;\">\n",
       "      <th></th>\n",
       "      <th>Code</th>\n",
       "      <th>Store Name</th>\n",
       "      <th># of Customers</th>\n",
       "      <th># of Items</th>\n",
       "      <th>Total Sales</th>\n",
       "      <th>Discount</th>\n",
       "      <th>Avg Sales per Customer</th>\n",
       "      <th>Avg Sales per Item</th>\n",
       "      <th>Date</th>\n",
       "      <th>Month</th>\n",
       "      <th>...</th>\n",
       "      <th>Distance from Station X(Feet)</th>\n",
       "      <th>Distance from Station Y(Meter)</th>\n",
       "      <th>Distance from Station Y(Feet)</th>\n",
       "      <th>Distance from Main Street(Meter)</th>\n",
       "      <th>Distance from Main Street(Feet)</th>\n",
       "      <th>YenWonRatio</th>\n",
       "      <th>Holiday</th>\n",
       "      <th>ActualHighTemp</th>\n",
       "      <th>Outlook</th>\n",
       "      <th>Japanese Tourists</th>\n",
       "    </tr>\n",
       "  </thead>\n",
       "  <tbody>\n",
       "    <tr>\n",
       "      <th>469</th>\n",
       "      <td>20288</td>\n",
       "      <td>Store B</td>\n",
       "      <td>257</td>\n",
       "      <td>1474</td>\n",
       "      <td>8974800</td>\n",
       "      <td>0</td>\n",
       "      <td>34921</td>\n",
       "      <td>6089</td>\n",
       "      <td>9/1/2011</td>\n",
       "      <td>9</td>\n",
       "      <td>...</td>\n",
       "      <td>591</td>\n",
       "      <td>550</td>\n",
       "      <td>1804</td>\n",
       "      <td>230</td>\n",
       "      <td>755</td>\n",
       "      <td>13.93</td>\n",
       "      <td>0</td>\n",
       "      <td>87</td>\n",
       "      <td>NaN</td>\n",
       "      <td>NaN</td>\n",
       "    </tr>\n",
       "    <tr>\n",
       "      <th>470</th>\n",
       "      <td>20288</td>\n",
       "      <td>Store B</td>\n",
       "      <td>260</td>\n",
       "      <td>1769</td>\n",
       "      <td>12861500</td>\n",
       "      <td>0</td>\n",
       "      <td>49467</td>\n",
       "      <td>7270</td>\n",
       "      <td>9/2/2011</td>\n",
       "      <td>9</td>\n",
       "      <td>...</td>\n",
       "      <td>591</td>\n",
       "      <td>550</td>\n",
       "      <td>1804</td>\n",
       "      <td>230</td>\n",
       "      <td>755</td>\n",
       "      <td>13.83</td>\n",
       "      <td>0</td>\n",
       "      <td>89</td>\n",
       "      <td>NaN</td>\n",
       "      <td>NaN</td>\n",
       "    </tr>\n",
       "    <tr>\n",
       "      <th>471</th>\n",
       "      <td>20288</td>\n",
       "      <td>Store B</td>\n",
       "      <td>196</td>\n",
       "      <td>1383</td>\n",
       "      <td>10509400</td>\n",
       "      <td>0</td>\n",
       "      <td>53619</td>\n",
       "      <td>7599</td>\n",
       "      <td>9/3/2011</td>\n",
       "      <td>9</td>\n",
       "      <td>...</td>\n",
       "      <td>591</td>\n",
       "      <td>550</td>\n",
       "      <td>1804</td>\n",
       "      <td>230</td>\n",
       "      <td>755</td>\n",
       "      <td>13.83</td>\n",
       "      <td>0</td>\n",
       "      <td>87</td>\n",
       "      <td>Cloudy</td>\n",
       "      <td>NaN</td>\n",
       "    </tr>\n",
       "    <tr>\n",
       "      <th>472</th>\n",
       "      <td>20288</td>\n",
       "      <td>Store B</td>\n",
       "      <td>171</td>\n",
       "      <td>1004</td>\n",
       "      <td>7741700</td>\n",
       "      <td>0</td>\n",
       "      <td>45273</td>\n",
       "      <td>7711</td>\n",
       "      <td>9/4/2011</td>\n",
       "      <td>9</td>\n",
       "      <td>...</td>\n",
       "      <td>591</td>\n",
       "      <td>550</td>\n",
       "      <td>1804</td>\n",
       "      <td>230</td>\n",
       "      <td>755</td>\n",
       "      <td>13.85</td>\n",
       "      <td>0</td>\n",
       "      <td>84</td>\n",
       "      <td>Cloudy</td>\n",
       "      <td>NaN</td>\n",
       "    </tr>\n",
       "    <tr>\n",
       "      <th>473</th>\n",
       "      <td>20288</td>\n",
       "      <td>Store B</td>\n",
       "      <td>184</td>\n",
       "      <td>1295</td>\n",
       "      <td>11250500</td>\n",
       "      <td>0</td>\n",
       "      <td>61144</td>\n",
       "      <td>8688</td>\n",
       "      <td>9/5/2011</td>\n",
       "      <td>9</td>\n",
       "      <td>...</td>\n",
       "      <td>591</td>\n",
       "      <td>550</td>\n",
       "      <td>1804</td>\n",
       "      <td>230</td>\n",
       "      <td>755</td>\n",
       "      <td>13.85</td>\n",
       "      <td>0</td>\n",
       "      <td>82</td>\n",
       "      <td>Sunny</td>\n",
       "      <td>NaN</td>\n",
       "    </tr>\n",
       "  </tbody>\n",
       "</table>\n",
       "<p>5 rows × 23 columns</p>\n",
       "</div>"
      ],
      "text/plain": [
       "      Code Store Name  # of Customers  # of Items  Total Sales  Discount  \\\n",
       "469  20288    Store B             257        1474      8974800         0   \n",
       "470  20288    Store B             260        1769     12861500         0   \n",
       "471  20288    Store B             196        1383     10509400         0   \n",
       "472  20288    Store B             171        1004      7741700         0   \n",
       "473  20288    Store B             184        1295     11250500         0   \n",
       "\n",
       "     Avg Sales per Customer  Avg Sales per Item      Date  Month  \\\n",
       "469                   34921                6089  9/1/2011      9   \n",
       "470                   49467                7270  9/2/2011      9   \n",
       "471                   53619                7599  9/3/2011      9   \n",
       "472                   45273                7711  9/4/2011      9   \n",
       "473                   61144                8688  9/5/2011      9   \n",
       "\n",
       "           ...          Distance from Station X(Feet)  \\\n",
       "469        ...                                    591   \n",
       "470        ...                                    591   \n",
       "471        ...                                    591   \n",
       "472        ...                                    591   \n",
       "473        ...                                    591   \n",
       "\n",
       "    Distance from Station Y(Meter)  Distance from Station Y(Feet)  \\\n",
       "469                            550                           1804   \n",
       "470                            550                           1804   \n",
       "471                            550                           1804   \n",
       "472                            550                           1804   \n",
       "473                            550                           1804   \n",
       "\n",
       "     Distance from Main Street(Meter)  Distance from Main Street(Feet)  \\\n",
       "469                               230                              755   \n",
       "470                               230                              755   \n",
       "471                               230                              755   \n",
       "472                               230                              755   \n",
       "473                               230                              755   \n",
       "\n",
       "     YenWonRatio  Holiday  ActualHighTemp Outlook  Japanese Tourists  \n",
       "469        13.93        0              87     NaN                NaN  \n",
       "470        13.83        0              89     NaN                NaN  \n",
       "471        13.83        0              87  Cloudy                NaN  \n",
       "472        13.85        0              84  Cloudy                NaN  \n",
       "473        13.85        0              82   Sunny                NaN  \n",
       "\n",
       "[5 rows x 23 columns]"
      ]
     },
     "execution_count": 22,
     "metadata": {},
     "output_type": "execute_result"
    }
   ],
   "source": [
    "korea_storeB.head()"
   ]
  },
  {
   "cell_type": "code",
   "execution_count": 23,
   "metadata": {},
   "outputs": [
    {
     "data": {
      "text/plain": [
       "Code                                 int64\n",
       "Store Name                          object\n",
       "# of Customers                       int64\n",
       "# of Items                           int64\n",
       "Total Sales                          int64\n",
       "Discount                             int64\n",
       "Avg Sales per Customer               int64\n",
       "Avg Sales per Item                   int64\n",
       "Date                                object\n",
       "Month                                int64\n",
       "Year                                 int64\n",
       "Weekday                             object\n",
       "Distance from Station X(Meter)       int64\n",
       "Distance from Station X(Feet)        int64\n",
       "Distance from Station Y(Meter)       int64\n",
       "Distance from Station Y(Feet)        int64\n",
       "Distance from Main Street(Meter)     int64\n",
       "Distance from Main Street(Feet)      int64\n",
       "YenWonRatio                         object\n",
       "Holiday                              int64\n",
       "ActualHighTemp                       int64\n",
       "Outlook                             object\n",
       "Japanese Tourists                   object\n",
       "dtype: object"
      ]
     },
     "execution_count": 23,
     "metadata": {},
     "output_type": "execute_result"
    }
   ],
   "source": [
    "korea_storeB.dtypes"
   ]
  },
  {
   "cell_type": "markdown",
   "metadata": {},
   "source": [
    "Here we can see that Japanese Tourists are of the type 'object', and lets convert this into the type 'float'"
   ]
  },
  {
   "cell_type": "code",
   "execution_count": 24,
   "metadata": {
    "collapsed": true
   },
   "outputs": [],
   "source": [
    "seri_JapanTourists= pd.Series(korea_storeB['Japanese Tourists'])"
   ]
  },
  {
   "cell_type": "code",
   "execution_count": 25,
   "metadata": {},
   "outputs": [
    {
     "name": "stderr",
     "output_type": "stream",
     "text": [
      "C:\\Users\\marga\\Anaconda3\\lib\\site-packages\\ipykernel_launcher.py:1: SettingWithCopyWarning: \n",
      "A value is trying to be set on a copy of a slice from a DataFrame.\n",
      "Try using .loc[row_indexer,col_indexer] = value instead\n",
      "\n",
      "See the caveats in the documentation: http://pandas.pydata.org/pandas-docs/stable/indexing.html#indexing-view-versus-copy\n",
      "  \"\"\"Entry point for launching an IPython kernel.\n"
     ]
    }
   ],
   "source": [
    "korea_storeB['Japanese Tourists'] = pd.to_numeric(seri_JapanTourists, errors = 'coerce')"
   ]
  },
  {
   "cell_type": "code",
   "execution_count": 26,
   "metadata": {},
   "outputs": [
    {
     "data": {
      "text/plain": [
       "Code                                  int64\n",
       "Store Name                           object\n",
       "# of Customers                        int64\n",
       "# of Items                            int64\n",
       "Total Sales                           int64\n",
       "Discount                              int64\n",
       "Avg Sales per Customer                int64\n",
       "Avg Sales per Item                    int64\n",
       "Date                                 object\n",
       "Month                                 int64\n",
       "Year                                  int64\n",
       "Weekday                              object\n",
       "Distance from Station X(Meter)        int64\n",
       "Distance from Station X(Feet)         int64\n",
       "Distance from Station Y(Meter)        int64\n",
       "Distance from Station Y(Feet)         int64\n",
       "Distance from Main Street(Meter)      int64\n",
       "Distance from Main Street(Feet)       int64\n",
       "YenWonRatio                          object\n",
       "Holiday                               int64\n",
       "ActualHighTemp                        int64\n",
       "Outlook                              object\n",
       "Japanese Tourists                   float64\n",
       "dtype: object"
      ]
     },
     "execution_count": 26,
     "metadata": {},
     "output_type": "execute_result"
    }
   ],
   "source": [
    "korea_storeB.dtypes"
   ]
  },
  {
   "cell_type": "markdown",
   "metadata": {},
   "source": [
    "Similarly, converting YenWonRatio to 'float' type since it is of the type 'object'"
   ]
  },
  {
   "cell_type": "code",
   "execution_count": 27,
   "metadata": {
    "collapsed": true
   },
   "outputs": [],
   "source": [
    "seri_YenWonRatio= pd.Series(korea_storeB['YenWonRatio'])"
   ]
  },
  {
   "cell_type": "code",
   "execution_count": 28,
   "metadata": {},
   "outputs": [
    {
     "name": "stderr",
     "output_type": "stream",
     "text": [
      "C:\\Users\\marga\\Anaconda3\\lib\\site-packages\\ipykernel_launcher.py:1: SettingWithCopyWarning: \n",
      "A value is trying to be set on a copy of a slice from a DataFrame.\n",
      "Try using .loc[row_indexer,col_indexer] = value instead\n",
      "\n",
      "See the caveats in the documentation: http://pandas.pydata.org/pandas-docs/stable/indexing.html#indexing-view-versus-copy\n",
      "  \"\"\"Entry point for launching an IPython kernel.\n"
     ]
    }
   ],
   "source": [
    "korea_storeB['YenWonRatio'] = pd.to_numeric(seri_YenWonRatio, errors = 'coerce')"
   ]
  },
  {
   "cell_type": "code",
   "execution_count": 30,
   "metadata": {},
   "outputs": [
    {
     "data": {
      "text/plain": [
       "dtype('float64')"
      ]
     },
     "execution_count": 30,
     "metadata": {},
     "output_type": "execute_result"
    }
   ],
   "source": [
    "korea_storeB['YenWonRatio'].dtypes"
   ]
  },
  {
   "cell_type": "markdown",
   "metadata": {},
   "source": [
    "Thus we have successfully converted 'YenWonRatio' and 'Japanese Tourists' into the type 'float'"
   ]
  },
  {
   "cell_type": "markdown",
   "metadata": {},
   "source": [
    "Lets now check how many null values are there in Japanese tourists and their max and min"
   ]
  },
  {
   "cell_type": "code",
   "execution_count": 31,
   "metadata": {
    "scrolled": true
   },
   "outputs": [
    {
     "data": {
      "text/plain": [
       "251"
      ]
     },
     "execution_count": 31,
     "metadata": {},
     "output_type": "execute_result"
    }
   ],
   "source": [
    "korea_storeB['Japanese Tourists'].isnull().sum()\n"
   ]
  },
  {
   "cell_type": "code",
   "execution_count": 135,
   "metadata": {},
   "outputs": [
    {
     "data": {
      "text/plain": [
       "18114.0"
      ]
     },
     "execution_count": 135,
     "metadata": {},
     "output_type": "execute_result"
    }
   ],
   "source": [
    "korea_storeB['Japanese Tourists'].max()"
   ]
  },
  {
   "cell_type": "code",
   "execution_count": 136,
   "metadata": {},
   "outputs": [
    {
     "data": {
      "text/plain": [
       "841.0"
      ]
     },
     "execution_count": 136,
     "metadata": {},
     "output_type": "execute_result"
    }
   ],
   "source": [
    "korea_storeB['Japanese Tourists'].min()"
   ]
  },
  {
   "cell_type": "markdown",
   "metadata": {},
   "source": [
    "Lets handle the null values by replacing them with the mean of the values of 'Japanese Tourists'. While taking the mean it is important to note that it excludes NA/null values when computing the results"
   ]
  },
  {
   "cell_type": "code",
   "execution_count": 137,
   "metadata": {},
   "outputs": [
    {
     "data": {
      "text/plain": [
       "3160.6570512820513"
      ]
     },
     "execution_count": 137,
     "metadata": {},
     "output_type": "execute_result"
    }
   ],
   "source": [
    "korea_storeB['Japanese Tourists'].mean()"
   ]
  },
  {
   "cell_type": "markdown",
   "metadata": {},
   "source": [
    "Lets replace the null values with the mean = 3160.65705128201513 using the fillna() method"
   ]
  },
  {
   "cell_type": "code",
   "execution_count": 32,
   "metadata": {},
   "outputs": [
    {
     "name": "stderr",
     "output_type": "stream",
     "text": [
      "C:\\Users\\marga\\Anaconda3\\lib\\site-packages\\ipykernel_launcher.py:1: SettingWithCopyWarning: \n",
      "A value is trying to be set on a copy of a slice from a DataFrame.\n",
      "Try using .loc[row_indexer,col_indexer] = value instead\n",
      "\n",
      "See the caveats in the documentation: http://pandas.pydata.org/pandas-docs/stable/indexing.html#indexing-view-versus-copy\n",
      "  \"\"\"Entry point for launching an IPython kernel.\n"
     ]
    }
   ],
   "source": [
    "korea_storeB['Japanese Tourists'] = korea_storeB['Japanese Tourists'].fillna(korea_storeB['Japanese Tourists'].mean())"
   ]
  },
  {
   "cell_type": "code",
   "execution_count": 33,
   "metadata": {},
   "outputs": [
    {
     "data": {
      "text/plain": [
       "0"
      ]
     },
     "execution_count": 33,
     "metadata": {},
     "output_type": "execute_result"
    }
   ],
   "source": [
    "korea_storeB['Japanese Tourists'].isnull().sum()"
   ]
  },
  {
   "cell_type": "markdown",
   "metadata": {},
   "source": [
    "Thus we can see above that the count of null values is 0 and that we have replaced all the above null values with the mean of the value of Japanese Tourists"
   ]
  },
  {
   "cell_type": "code",
   "execution_count": 34,
   "metadata": {},
   "outputs": [
    {
     "data": {
      "text/plain": [
       "0"
      ]
     },
     "execution_count": 34,
     "metadata": {},
     "output_type": "execute_result"
    }
   ],
   "source": [
    "korea_storeB['YenWonRatio'].isnull().sum()"
   ]
  },
  {
   "cell_type": "code",
   "execution_count": 35,
   "metadata": {},
   "outputs": [
    {
     "data": {
      "image/png": "[encoded data removed]",
      "text/plain": [
       "<matplotlib.figure.Figure at 0x1a28cee3908>"
      ]
     },
     "metadata": {},
     "output_type": "display_data"
    }
   ],
   "source": [
    "plt.hist(korea_storeB['YenWonRatio'])\n",
    "plt.show()"
   ]
  },
  {
   "cell_type": "markdown",
   "metadata": {},
   "source": [
    "Lets use square transforamtion to reduce left skewness of the 'YenWonRatio'"
   ]
  },
  {
   "cell_type": "code",
   "execution_count": 36,
   "metadata": {},
   "outputs": [
    {
     "data": {
      "image/png": "[encoded data removed]",
      "text/plain": [
       "<matplotlib.figure.Figure at 0x1a28cf004a8>"
      ]
     },
     "metadata": {},
     "output_type": "display_data"
    }
   ],
   "source": [
    "korea_storeB['YenWonRatio'].apply(np.log).hist()\n",
    "\n",
    "plt.show()"
   ]
  },
  {
   "cell_type": "code",
   "execution_count": 144,
   "metadata": {},
   "outputs": [
    {
     "name": "stderr",
     "output_type": "stream",
     "text": [
      "C:\\Users\\marga\\Anaconda3\\lib\\site-packages\\ipykernel_launcher.py:1: SettingWithCopyWarning: \n",
      "A value is trying to be set on a copy of a slice from a DataFrame.\n",
      "Try using .loc[row_indexer,col_indexer] = value instead\n",
      "\n",
      "See the caveats in the documentation: http://pandas.pydata.org/pandas-docs/stable/indexing.html#indexing-view-versus-copy\n",
      "  \"\"\"Entry point for launching an IPython kernel.\n"
     ]
    }
   ],
   "source": [
    "korea_storeB['YenWonRatio'] = np.sqrt(korea_storeB['YenWonRatio'])"
   ]
  },
  {
   "cell_type": "code",
   "execution_count": 37,
   "metadata": {},
   "outputs": [
    {
     "data": {
      "image/png": "[encoded data removed]",
      "text/plain": [
       "<matplotlib.figure.Figure at 0x1a28d0ae390>"
      ]
     },
     "metadata": {},
     "output_type": "display_data"
    }
   ],
   "source": [
    "plt.hist(korea_storeB['YenWonRatio'])\n",
    "plt.show()"
   ]
  },
  {
   "cell_type": "code",
   "execution_count": 38,
   "metadata": {},
   "outputs": [
    {
     "data": {
      "image/png": "[encoded data removed]",
      "text/plain": [
       "<matplotlib.figure.Figure at 0x1a28d4d4550>"
      ]
     },
     "metadata": {},
     "output_type": "display_data"
    }
   ],
   "source": [
    "plt.hist(korea_storeB['Japanese Tourists'])\n",
    "plt.show()"
   ]
  },
  {
   "cell_type": "markdown",
   "metadata": {},
   "source": [
    "'Japanese Tourists' is right skewed and right skewness can be handled by a logarithmic transformation"
   ]
  },
  {
   "cell_type": "code",
   "execution_count": 39,
   "metadata": {},
   "outputs": [
    {
     "name": "stderr",
     "output_type": "stream",
     "text": [
      "C:\\Users\\marga\\Anaconda3\\lib\\site-packages\\ipykernel_launcher.py:1: SettingWithCopyWarning: \n",
      "A value is trying to be set on a copy of a slice from a DataFrame.\n",
      "Try using .loc[row_indexer,col_indexer] = value instead\n",
      "\n",
      "See the caveats in the documentation: http://pandas.pydata.org/pandas-docs/stable/indexing.html#indexing-view-versus-copy\n",
      "  \"\"\"Entry point for launching an IPython kernel.\n"
     ]
    }
   ],
   "source": [
    "korea_storeB['Japanese Tourists'] = np.log(korea_storeB['Japanese Tourists'])"
   ]
  },
  {
   "cell_type": "code",
   "execution_count": 40,
   "metadata": {},
   "outputs": [
    {
     "data": {
      "image/png": "[encoded data removed]",
      "text/plain": [
       "<matplotlib.figure.Figure at 0x1a28d505668>"
      ]
     },
     "metadata": {},
     "output_type": "display_data"
    }
   ],
   "source": [
    "plt.hist(korea_storeB['Japanese Tourists'])\n",
    "plt.show()"
   ]
  },
  {
   "cell_type": "code",
   "execution_count": 109,
   "metadata": {},
   "outputs": [
    {
     "data": {
      "text/plain": [
       "6.7345916599729483"
      ]
     },
     "execution_count": 109,
     "metadata": {},
     "output_type": "execute_result"
    }
   ],
   "source": [
    "korea_storeB['Japanese Tourists'].min()"
   ]
  },
  {
   "cell_type": "code",
   "execution_count": 110,
   "metadata": {},
   "outputs": [
    {
     "data": {
      "text/plain": [
       "9.8044403989348936"
      ]
     },
     "execution_count": 110,
     "metadata": {},
     "output_type": "execute_result"
    }
   ],
   "source": [
    "korea_storeB['Japanese Tourists'].max()"
   ]
  },
  {
   "cell_type": "code",
   "execution_count": 41,
   "metadata": {},
   "outputs": [
    {
     "data": {
      "text/html": [
       "<div>\n",
       "<style>\n",
       "    .dataframe thead tr:only-child th {\n",
       "        text-align: right;\n",
       "    }\n",
       "\n",
       "    .dataframe thead th {\n",
       "        text-align: left;\n",
       "    }\n",
       "\n",
       "    .dataframe tbody tr th {\n",
       "        vertical-align: top;\n",
       "    }\n",
       "</style>\n",
       "<table border=\"1\" class=\"dataframe\">\n",
       "  <thead>\n",
       "    <tr style=\"text-align: right;\">\n",
       "      <th></th>\n",
       "      <th>Code</th>\n",
       "      <th>Store Name</th>\n",
       "      <th># of Customers</th>\n",
       "      <th># of Items</th>\n",
       "      <th>Total Sales</th>\n",
       "      <th>Discount</th>\n",
       "      <th>Avg Sales per Customer</th>\n",
       "      <th>Avg Sales per Item</th>\n",
       "      <th>Date</th>\n",
       "      <th>Month</th>\n",
       "      <th>...</th>\n",
       "      <th>Distance from Station X(Feet)</th>\n",
       "      <th>Distance from Station Y(Meter)</th>\n",
       "      <th>Distance from Station Y(Feet)</th>\n",
       "      <th>Distance from Main Street(Meter)</th>\n",
       "      <th>Distance from Main Street(Feet)</th>\n",
       "      <th>YenWonRatio</th>\n",
       "      <th>Holiday</th>\n",
       "      <th>ActualHighTemp</th>\n",
       "      <th>Outlook</th>\n",
       "      <th>Japanese Tourists</th>\n",
       "    </tr>\n",
       "  </thead>\n",
       "  <tbody>\n",
       "    <tr>\n",
       "      <th>469</th>\n",
       "      <td>20288</td>\n",
       "      <td>Store B</td>\n",
       "      <td>257</td>\n",
       "      <td>1474</td>\n",
       "      <td>8974800</td>\n",
       "      <td>0</td>\n",
       "      <td>34921</td>\n",
       "      <td>6089</td>\n",
       "      <td>9/1/2011</td>\n",
       "      <td>9</td>\n",
       "      <td>...</td>\n",
       "      <td>591</td>\n",
       "      <td>550</td>\n",
       "      <td>1804</td>\n",
       "      <td>230</td>\n",
       "      <td>755</td>\n",
       "      <td>13.93</td>\n",
       "      <td>0</td>\n",
       "      <td>87</td>\n",
       "      <td>NaN</td>\n",
       "      <td>8.058535</td>\n",
       "    </tr>\n",
       "    <tr>\n",
       "      <th>470</th>\n",
       "      <td>20288</td>\n",
       "      <td>Store B</td>\n",
       "      <td>260</td>\n",
       "      <td>1769</td>\n",
       "      <td>12861500</td>\n",
       "      <td>0</td>\n",
       "      <td>49467</td>\n",
       "      <td>7270</td>\n",
       "      <td>9/2/2011</td>\n",
       "      <td>9</td>\n",
       "      <td>...</td>\n",
       "      <td>591</td>\n",
       "      <td>550</td>\n",
       "      <td>1804</td>\n",
       "      <td>230</td>\n",
       "      <td>755</td>\n",
       "      <td>13.83</td>\n",
       "      <td>0</td>\n",
       "      <td>89</td>\n",
       "      <td>NaN</td>\n",
       "      <td>8.058535</td>\n",
       "    </tr>\n",
       "    <tr>\n",
       "      <th>471</th>\n",
       "      <td>20288</td>\n",
       "      <td>Store B</td>\n",
       "      <td>196</td>\n",
       "      <td>1383</td>\n",
       "      <td>10509400</td>\n",
       "      <td>0</td>\n",
       "      <td>53619</td>\n",
       "      <td>7599</td>\n",
       "      <td>9/3/2011</td>\n",
       "      <td>9</td>\n",
       "      <td>...</td>\n",
       "      <td>591</td>\n",
       "      <td>550</td>\n",
       "      <td>1804</td>\n",
       "      <td>230</td>\n",
       "      <td>755</td>\n",
       "      <td>13.83</td>\n",
       "      <td>0</td>\n",
       "      <td>87</td>\n",
       "      <td>Cloudy</td>\n",
       "      <td>8.058535</td>\n",
       "    </tr>\n",
       "    <tr>\n",
       "      <th>472</th>\n",
       "      <td>20288</td>\n",
       "      <td>Store B</td>\n",
       "      <td>171</td>\n",
       "      <td>1004</td>\n",
       "      <td>7741700</td>\n",
       "      <td>0</td>\n",
       "      <td>45273</td>\n",
       "      <td>7711</td>\n",
       "      <td>9/4/2011</td>\n",
       "      <td>9</td>\n",
       "      <td>...</td>\n",
       "      <td>591</td>\n",
       "      <td>550</td>\n",
       "      <td>1804</td>\n",
       "      <td>230</td>\n",
       "      <td>755</td>\n",
       "      <td>13.85</td>\n",
       "      <td>0</td>\n",
       "      <td>84</td>\n",
       "      <td>Cloudy</td>\n",
       "      <td>8.058535</td>\n",
       "    </tr>\n",
       "    <tr>\n",
       "      <th>473</th>\n",
       "      <td>20288</td>\n",
       "      <td>Store B</td>\n",
       "      <td>184</td>\n",
       "      <td>1295</td>\n",
       "      <td>11250500</td>\n",
       "      <td>0</td>\n",
       "      <td>61144</td>\n",
       "      <td>8688</td>\n",
       "      <td>9/5/2011</td>\n",
       "      <td>9</td>\n",
       "      <td>...</td>\n",
       "      <td>591</td>\n",
       "      <td>550</td>\n",
       "      <td>1804</td>\n",
       "      <td>230</td>\n",
       "      <td>755</td>\n",
       "      <td>13.85</td>\n",
       "      <td>0</td>\n",
       "      <td>82</td>\n",
       "      <td>Sunny</td>\n",
       "      <td>8.058535</td>\n",
       "    </tr>\n",
       "  </tbody>\n",
       "</table>\n",
       "<p>5 rows × 23 columns</p>\n",
       "</div>"
      ],
      "text/plain": [
       "      Code Store Name  # of Customers  # of Items  Total Sales  Discount  \\\n",
       "469  20288    Store B             257        1474      8974800         0   \n",
       "470  20288    Store B             260        1769     12861500         0   \n",
       "471  20288    Store B             196        1383     10509400         0   \n",
       "472  20288    Store B             171        1004      7741700         0   \n",
       "473  20288    Store B             184        1295     11250500         0   \n",
       "\n",
       "     Avg Sales per Customer  Avg Sales per Item      Date  Month  \\\n",
       "469                   34921                6089  9/1/2011      9   \n",
       "470                   49467                7270  9/2/2011      9   \n",
       "471                   53619                7599  9/3/2011      9   \n",
       "472                   45273                7711  9/4/2011      9   \n",
       "473                   61144                8688  9/5/2011      9   \n",
       "\n",
       "           ...          Distance from Station X(Feet)  \\\n",
       "469        ...                                    591   \n",
       "470        ...                                    591   \n",
       "471        ...                                    591   \n",
       "472        ...                                    591   \n",
       "473        ...                                    591   \n",
       "\n",
       "    Distance from Station Y(Meter)  Distance from Station Y(Feet)  \\\n",
       "469                            550                           1804   \n",
       "470                            550                           1804   \n",
       "471                            550                           1804   \n",
       "472                            550                           1804   \n",
       "473                            550                           1804   \n",
       "\n",
       "     Distance from Main Street(Meter)  Distance from Main Street(Feet)  \\\n",
       "469                               230                              755   \n",
       "470                               230                              755   \n",
       "471                               230                              755   \n",
       "472                               230                              755   \n",
       "473                               230                              755   \n",
       "\n",
       "     YenWonRatio  Holiday  ActualHighTemp  Outlook  Japanese Tourists  \n",
       "469        13.93        0              87      NaN           8.058535  \n",
       "470        13.83        0              89      NaN           8.058535  \n",
       "471        13.83        0              87   Cloudy           8.058535  \n",
       "472        13.85        0              84   Cloudy           8.058535  \n",
       "473        13.85        0              82    Sunny           8.058535  \n",
       "\n",
       "[5 rows x 23 columns]"
      ]
     },
     "execution_count": 41,
     "metadata": {},
     "output_type": "execute_result"
    }
   ],
   "source": [
    "korea_storeB.head()"
   ]
  },
  {
   "cell_type": "code",
   "execution_count": 42,
   "metadata": {},
   "outputs": [
    {
     "data": {
      "text/html": [
       "<div>\n",
       "<style>\n",
       "    .dataframe thead tr:only-child th {\n",
       "        text-align: right;\n",
       "    }\n",
       "\n",
       "    .dataframe thead th {\n",
       "        text-align: left;\n",
       "    }\n",
       "\n",
       "    .dataframe tbody tr th {\n",
       "        vertical-align: top;\n",
       "    }\n",
       "</style>\n",
       "<table border=\"1\" class=\"dataframe\">\n",
       "  <thead>\n",
       "    <tr style=\"text-align: right;\">\n",
       "      <th></th>\n",
       "      <th>Cloudy</th>\n",
       "      <th>Rainy</th>\n",
       "      <th>Snowy</th>\n",
       "      <th>Sunny</th>\n",
       "    </tr>\n",
       "  </thead>\n",
       "  <tbody>\n",
       "    <tr>\n",
       "      <th>469</th>\n",
       "      <td>0</td>\n",
       "      <td>0</td>\n",
       "      <td>0</td>\n",
       "      <td>0</td>\n",
       "    </tr>\n",
       "    <tr>\n",
       "      <th>470</th>\n",
       "      <td>0</td>\n",
       "      <td>0</td>\n",
       "      <td>0</td>\n",
       "      <td>0</td>\n",
       "    </tr>\n",
       "    <tr>\n",
       "      <th>471</th>\n",
       "      <td>1</td>\n",
       "      <td>0</td>\n",
       "      <td>0</td>\n",
       "      <td>0</td>\n",
       "    </tr>\n",
       "    <tr>\n",
       "      <th>472</th>\n",
       "      <td>1</td>\n",
       "      <td>0</td>\n",
       "      <td>0</td>\n",
       "      <td>0</td>\n",
       "    </tr>\n",
       "    <tr>\n",
       "      <th>473</th>\n",
       "      <td>0</td>\n",
       "      <td>0</td>\n",
       "      <td>0</td>\n",
       "      <td>1</td>\n",
       "    </tr>\n",
       "  </tbody>\n",
       "</table>\n",
       "</div>"
      ],
      "text/plain": [
       "     Cloudy  Rainy  Snowy  Sunny\n",
       "469       0      0      0      0\n",
       "470       0      0      0      0\n",
       "471       1      0      0      0\n",
       "472       1      0      0      0\n",
       "473       0      0      0      1"
      ]
     },
     "execution_count": 42,
     "metadata": {},
     "output_type": "execute_result"
    }
   ],
   "source": [
    "dummy = pd.get_dummies(korea_storeB['Outlook'])\n",
    "dummy.head()"
   ]
  },
  {
   "cell_type": "code",
   "execution_count": 43,
   "metadata": {},
   "outputs": [
    {
     "data": {
      "text/html": [
       "<div>\n",
       "<style>\n",
       "    .dataframe thead tr:only-child th {\n",
       "        text-align: right;\n",
       "    }\n",
       "\n",
       "    .dataframe thead th {\n",
       "        text-align: left;\n",
       "    }\n",
       "\n",
       "    .dataframe tbody tr th {\n",
       "        vertical-align: top;\n",
       "    }\n",
       "</style>\n",
       "<table border=\"1\" class=\"dataframe\">\n",
       "  <thead>\n",
       "    <tr style=\"text-align: right;\">\n",
       "      <th></th>\n",
       "      <th>Code</th>\n",
       "      <th>Store Name</th>\n",
       "      <th># of Customers</th>\n",
       "      <th># of Items</th>\n",
       "      <th>Total Sales</th>\n",
       "      <th>Discount</th>\n",
       "      <th>Avg Sales per Customer</th>\n",
       "      <th>Avg Sales per Item</th>\n",
       "      <th>Date</th>\n",
       "      <th>Month</th>\n",
       "      <th>...</th>\n",
       "      <th>Distance from Main Street(Feet)</th>\n",
       "      <th>YenWonRatio</th>\n",
       "      <th>Holiday</th>\n",
       "      <th>ActualHighTemp</th>\n",
       "      <th>Outlook</th>\n",
       "      <th>Japanese Tourists</th>\n",
       "      <th>Cloudy</th>\n",
       "      <th>Rainy</th>\n",
       "      <th>Snowy</th>\n",
       "      <th>Sunny</th>\n",
       "    </tr>\n",
       "  </thead>\n",
       "  <tbody>\n",
       "    <tr>\n",
       "      <th>469</th>\n",
       "      <td>20288</td>\n",
       "      <td>Store B</td>\n",
       "      <td>257</td>\n",
       "      <td>1474</td>\n",
       "      <td>8974800</td>\n",
       "      <td>0</td>\n",
       "      <td>34921</td>\n",
       "      <td>6089</td>\n",
       "      <td>9/1/2011</td>\n",
       "      <td>9</td>\n",
       "      <td>...</td>\n",
       "      <td>755</td>\n",
       "      <td>13.93</td>\n",
       "      <td>0</td>\n",
       "      <td>87</td>\n",
       "      <td>NaN</td>\n",
       "      <td>8.058535</td>\n",
       "      <td>0</td>\n",
       "      <td>0</td>\n",
       "      <td>0</td>\n",
       "      <td>0</td>\n",
       "    </tr>\n",
       "    <tr>\n",
       "      <th>470</th>\n",
       "      <td>20288</td>\n",
       "      <td>Store B</td>\n",
       "      <td>260</td>\n",
       "      <td>1769</td>\n",
       "      <td>12861500</td>\n",
       "      <td>0</td>\n",
       "      <td>49467</td>\n",
       "      <td>7270</td>\n",
       "      <td>9/2/2011</td>\n",
       "      <td>9</td>\n",
       "      <td>...</td>\n",
       "      <td>755</td>\n",
       "      <td>13.83</td>\n",
       "      <td>0</td>\n",
       "      <td>89</td>\n",
       "      <td>NaN</td>\n",
       "      <td>8.058535</td>\n",
       "      <td>0</td>\n",
       "      <td>0</td>\n",
       "      <td>0</td>\n",
       "      <td>0</td>\n",
       "    </tr>\n",
       "    <tr>\n",
       "      <th>471</th>\n",
       "      <td>20288</td>\n",
       "      <td>Store B</td>\n",
       "      <td>196</td>\n",
       "      <td>1383</td>\n",
       "      <td>10509400</td>\n",
       "      <td>0</td>\n",
       "      <td>53619</td>\n",
       "      <td>7599</td>\n",
       "      <td>9/3/2011</td>\n",
       "      <td>9</td>\n",
       "      <td>...</td>\n",
       "      <td>755</td>\n",
       "      <td>13.83</td>\n",
       "      <td>0</td>\n",
       "      <td>87</td>\n",
       "      <td>Cloudy</td>\n",
       "      <td>8.058535</td>\n",
       "      <td>1</td>\n",
       "      <td>0</td>\n",
       "      <td>0</td>\n",
       "      <td>0</td>\n",
       "    </tr>\n",
       "    <tr>\n",
       "      <th>472</th>\n",
       "      <td>20288</td>\n",
       "      <td>Store B</td>\n",
       "      <td>171</td>\n",
       "      <td>1004</td>\n",
       "      <td>7741700</td>\n",
       "      <td>0</td>\n",
       "      <td>45273</td>\n",
       "      <td>7711</td>\n",
       "      <td>9/4/2011</td>\n",
       "      <td>9</td>\n",
       "      <td>...</td>\n",
       "      <td>755</td>\n",
       "      <td>13.85</td>\n",
       "      <td>0</td>\n",
       "      <td>84</td>\n",
       "      <td>Cloudy</td>\n",
       "      <td>8.058535</td>\n",
       "      <td>1</td>\n",
       "      <td>0</td>\n",
       "      <td>0</td>\n",
       "      <td>0</td>\n",
       "    </tr>\n",
       "    <tr>\n",
       "      <th>473</th>\n",
       "      <td>20288</td>\n",
       "      <td>Store B</td>\n",
       "      <td>184</td>\n",
       "      <td>1295</td>\n",
       "      <td>11250500</td>\n",
       "      <td>0</td>\n",
       "      <td>61144</td>\n",
       "      <td>8688</td>\n",
       "      <td>9/5/2011</td>\n",
       "      <td>9</td>\n",
       "      <td>...</td>\n",
       "      <td>755</td>\n",
       "      <td>13.85</td>\n",
       "      <td>0</td>\n",
       "      <td>82</td>\n",
       "      <td>Sunny</td>\n",
       "      <td>8.058535</td>\n",
       "      <td>0</td>\n",
       "      <td>0</td>\n",
       "      <td>0</td>\n",
       "      <td>1</td>\n",
       "    </tr>\n",
       "  </tbody>\n",
       "</table>\n",
       "<p>5 rows × 27 columns</p>\n",
       "</div>"
      ],
      "text/plain": [
       "      Code Store Name  # of Customers  # of Items  Total Sales  Discount  \\\n",
       "469  20288    Store B             257        1474      8974800         0   \n",
       "470  20288    Store B             260        1769     12861500         0   \n",
       "471  20288    Store B             196        1383     10509400         0   \n",
       "472  20288    Store B             171        1004      7741700         0   \n",
       "473  20288    Store B             184        1295     11250500         0   \n",
       "\n",
       "     Avg Sales per Customer  Avg Sales per Item      Date  Month  ...    \\\n",
       "469                   34921                6089  9/1/2011      9  ...     \n",
       "470                   49467                7270  9/2/2011      9  ...     \n",
       "471                   53619                7599  9/3/2011      9  ...     \n",
       "472                   45273                7711  9/4/2011      9  ...     \n",
       "473                   61144                8688  9/5/2011      9  ...     \n",
       "\n",
       "     Distance from Main Street(Feet) YenWonRatio  Holiday  ActualHighTemp  \\\n",
       "469                              755       13.93        0              87   \n",
       "470                              755       13.83        0              89   \n",
       "471                              755       13.83        0              87   \n",
       "472                              755       13.85        0              84   \n",
       "473                              755       13.85        0              82   \n",
       "\n",
       "     Outlook  Japanese Tourists  Cloudy  Rainy  Snowy  Sunny  \n",
       "469      NaN           8.058535       0      0      0      0  \n",
       "470      NaN           8.058535       0      0      0      0  \n",
       "471   Cloudy           8.058535       1      0      0      0  \n",
       "472   Cloudy           8.058535       1      0      0      0  \n",
       "473    Sunny           8.058535       0      0      0      1  \n",
       "\n",
       "[5 rows x 27 columns]"
      ]
     },
     "execution_count": 43,
     "metadata": {},
     "output_type": "execute_result"
    }
   ],
   "source": [
    "korea_storeB = pd.concat([korea_storeB, dummy], axis = 1)\n",
    "korea_storeB.head()"
   ]
  },
  {
   "cell_type": "code",
   "execution_count": 44,
   "metadata": {},
   "outputs": [
    {
     "data": {
      "text/plain": [
       "Index(['Code', 'Store Name', '# of Customers', '# of Items', 'Total Sales',\n",
       "       'Discount', 'Avg Sales per Customer', 'Avg Sales per Item', 'Date',\n",
       "       'Month', 'Year', 'Weekday', 'Distance from Station X(Meter)',\n",
       "       'Distance from Station X(Feet)', 'Distance from Station Y(Meter)',\n",
       "       'Distance from Station Y(Feet)', 'Distance from Main Street(Meter)',\n",
       "       'Distance from Main Street(Feet)', 'YenWonRatio', 'Holiday',\n",
       "       'ActualHighTemp', 'Outlook', 'Japanese Tourists', 'Cloudy', 'Rainy',\n",
       "       'Snowy', 'Sunny'],\n",
       "      dtype='object')"
      ]
     },
     "execution_count": 44,
     "metadata": {},
     "output_type": "execute_result"
    }
   ],
   "source": [
    "korea_storeB.columns"
   ]
  },
  {
   "cell_type": "code",
   "execution_count": 45,
   "metadata": {},
   "outputs": [
    {
     "data": {
      "text/html": [
       "<div>\n",
       "<style>\n",
       "    .dataframe thead tr:only-child th {\n",
       "        text-align: right;\n",
       "    }\n",
       "\n",
       "    .dataframe thead th {\n",
       "        text-align: left;\n",
       "    }\n",
       "\n",
       "    .dataframe tbody tr th {\n",
       "        vertical-align: top;\n",
       "    }\n",
       "</style>\n",
       "<table border=\"1\" class=\"dataframe\">\n",
       "  <thead>\n",
       "    <tr style=\"text-align: right;\">\n",
       "      <th></th>\n",
       "      <th>Friday</th>\n",
       "      <th>Monday</th>\n",
       "      <th>Saturday</th>\n",
       "      <th>Sunday</th>\n",
       "      <th>Thursday</th>\n",
       "      <th>Tuesday</th>\n",
       "      <th>Wednesday</th>\n",
       "    </tr>\n",
       "  </thead>\n",
       "  <tbody>\n",
       "    <tr>\n",
       "      <th>469</th>\n",
       "      <td>0</td>\n",
       "      <td>0</td>\n",
       "      <td>0</td>\n",
       "      <td>0</td>\n",
       "      <td>1</td>\n",
       "      <td>0</td>\n",
       "      <td>0</td>\n",
       "    </tr>\n",
       "    <tr>\n",
       "      <th>470</th>\n",
       "      <td>1</td>\n",
       "      <td>0</td>\n",
       "      <td>0</td>\n",
       "      <td>0</td>\n",
       "      <td>0</td>\n",
       "      <td>0</td>\n",
       "      <td>0</td>\n",
       "    </tr>\n",
       "    <tr>\n",
       "      <th>471</th>\n",
       "      <td>0</td>\n",
       "      <td>0</td>\n",
       "      <td>1</td>\n",
       "      <td>0</td>\n",
       "      <td>0</td>\n",
       "      <td>0</td>\n",
       "      <td>0</td>\n",
       "    </tr>\n",
       "    <tr>\n",
       "      <th>472</th>\n",
       "      <td>0</td>\n",
       "      <td>0</td>\n",
       "      <td>0</td>\n",
       "      <td>1</td>\n",
       "      <td>0</td>\n",
       "      <td>0</td>\n",
       "      <td>0</td>\n",
       "    </tr>\n",
       "    <tr>\n",
       "      <th>473</th>\n",
       "      <td>0</td>\n",
       "      <td>1</td>\n",
       "      <td>0</td>\n",
       "      <td>0</td>\n",
       "      <td>0</td>\n",
       "      <td>0</td>\n",
       "      <td>0</td>\n",
       "    </tr>\n",
       "  </tbody>\n",
       "</table>\n",
       "</div>"
      ],
      "text/plain": [
       "     Friday  Monday  Saturday  Sunday  Thursday  Tuesday  Wednesday\n",
       "469       0       0         0       0         1        0          0\n",
       "470       1       0         0       0         0        0          0\n",
       "471       0       0         1       0         0        0          0\n",
       "472       0       0         0       1         0        0          0\n",
       "473       0       1         0       0         0        0          0"
      ]
     },
     "execution_count": 45,
     "metadata": {},
     "output_type": "execute_result"
    }
   ],
   "source": [
    "dummy_week = pd.get_dummies(korea_storeB['Weekday'])\n",
    "dummy_week.head()"
   ]
  },
  {
   "cell_type": "code",
   "execution_count": 46,
   "metadata": {},
   "outputs": [
    {
     "data": {
      "text/html": [
       "<div>\n",
       "<style>\n",
       "    .dataframe thead tr:only-child th {\n",
       "        text-align: right;\n",
       "    }\n",
       "\n",
       "    .dataframe thead th {\n",
       "        text-align: left;\n",
       "    }\n",
       "\n",
       "    .dataframe tbody tr th {\n",
       "        vertical-align: top;\n",
       "    }\n",
       "</style>\n",
       "<table border=\"1\" class=\"dataframe\">\n",
       "  <thead>\n",
       "    <tr style=\"text-align: right;\">\n",
       "      <th></th>\n",
       "      <th>Code</th>\n",
       "      <th>Store Name</th>\n",
       "      <th># of Customers</th>\n",
       "      <th># of Items</th>\n",
       "      <th>Total Sales</th>\n",
       "      <th>Discount</th>\n",
       "      <th>Avg Sales per Customer</th>\n",
       "      <th>Avg Sales per Item</th>\n",
       "      <th>Date</th>\n",
       "      <th>Month</th>\n",
       "      <th>...</th>\n",
       "      <th>Rainy</th>\n",
       "      <th>Snowy</th>\n",
       "      <th>Sunny</th>\n",
       "      <th>Friday</th>\n",
       "      <th>Monday</th>\n",
       "      <th>Saturday</th>\n",
       "      <th>Sunday</th>\n",
       "      <th>Thursday</th>\n",
       "      <th>Tuesday</th>\n",
       "      <th>Wednesday</th>\n",
       "    </tr>\n",
       "  </thead>\n",
       "  <tbody>\n",
       "    <tr>\n",
       "      <th>469</th>\n",
       "      <td>20288</td>\n",
       "      <td>Store B</td>\n",
       "      <td>257</td>\n",
       "      <td>1474</td>\n",
       "      <td>8974800</td>\n",
       "      <td>0</td>\n",
       "      <td>34921</td>\n",
       "      <td>6089</td>\n",
       "      <td>9/1/2011</td>\n",
       "      <td>9</td>\n",
       "      <td>...</td>\n",
       "      <td>0</td>\n",
       "      <td>0</td>\n",
       "      <td>0</td>\n",
       "      <td>0</td>\n",
       "      <td>0</td>\n",
       "      <td>0</td>\n",
       "      <td>0</td>\n",
       "      <td>1</td>\n",
       "      <td>0</td>\n",
       "      <td>0</td>\n",
       "    </tr>\n",
       "    <tr>\n",
       "      <th>470</th>\n",
       "      <td>20288</td>\n",
       "      <td>Store B</td>\n",
       "      <td>260</td>\n",
       "      <td>1769</td>\n",
       "      <td>12861500</td>\n",
       "      <td>0</td>\n",
       "      <td>49467</td>\n",
       "      <td>7270</td>\n",
       "      <td>9/2/2011</td>\n",
       "      <td>9</td>\n",
       "      <td>...</td>\n",
       "      <td>0</td>\n",
       "      <td>0</td>\n",
       "      <td>0</td>\n",
       "      <td>1</td>\n",
       "      <td>0</td>\n",
       "      <td>0</td>\n",
       "      <td>0</td>\n",
       "      <td>0</td>\n",
       "      <td>0</td>\n",
       "      <td>0</td>\n",
       "    </tr>\n",
       "    <tr>\n",
       "      <th>471</th>\n",
       "      <td>20288</td>\n",
       "      <td>Store B</td>\n",
       "      <td>196</td>\n",
       "      <td>1383</td>\n",
       "      <td>10509400</td>\n",
       "      <td>0</td>\n",
       "      <td>53619</td>\n",
       "      <td>7599</td>\n",
       "      <td>9/3/2011</td>\n",
       "      <td>9</td>\n",
       "      <td>...</td>\n",
       "      <td>0</td>\n",
       "      <td>0</td>\n",
       "      <td>0</td>\n",
       "      <td>0</td>\n",
       "      <td>0</td>\n",
       "      <td>1</td>\n",
       "      <td>0</td>\n",
       "      <td>0</td>\n",
       "      <td>0</td>\n",
       "      <td>0</td>\n",
       "    </tr>\n",
       "    <tr>\n",
       "      <th>472</th>\n",
       "      <td>20288</td>\n",
       "      <td>Store B</td>\n",
       "      <td>171</td>\n",
       "      <td>1004</td>\n",
       "      <td>7741700</td>\n",
       "      <td>0</td>\n",
       "      <td>45273</td>\n",
       "      <td>7711</td>\n",
       "      <td>9/4/2011</td>\n",
       "      <td>9</td>\n",
       "      <td>...</td>\n",
       "      <td>0</td>\n",
       "      <td>0</td>\n",
       "      <td>0</td>\n",
       "      <td>0</td>\n",
       "      <td>0</td>\n",
       "      <td>0</td>\n",
       "      <td>1</td>\n",
       "      <td>0</td>\n",
       "      <td>0</td>\n",
       "      <td>0</td>\n",
       "    </tr>\n",
       "    <tr>\n",
       "      <th>473</th>\n",
       "      <td>20288</td>\n",
       "      <td>Store B</td>\n",
       "      <td>184</td>\n",
       "      <td>1295</td>\n",
       "      <td>11250500</td>\n",
       "      <td>0</td>\n",
       "      <td>61144</td>\n",
       "      <td>8688</td>\n",
       "      <td>9/5/2011</td>\n",
       "      <td>9</td>\n",
       "      <td>...</td>\n",
       "      <td>0</td>\n",
       "      <td>0</td>\n",
       "      <td>1</td>\n",
       "      <td>0</td>\n",
       "      <td>1</td>\n",
       "      <td>0</td>\n",
       "      <td>0</td>\n",
       "      <td>0</td>\n",
       "      <td>0</td>\n",
       "      <td>0</td>\n",
       "    </tr>\n",
       "  </tbody>\n",
       "</table>\n",
       "<p>5 rows × 34 columns</p>\n",
       "</div>"
      ],
      "text/plain": [
       "      Code Store Name  # of Customers  # of Items  Total Sales  Discount  \\\n",
       "469  20288    Store B             257        1474      8974800         0   \n",
       "470  20288    Store B             260        1769     12861500         0   \n",
       "471  20288    Store B             196        1383     10509400         0   \n",
       "472  20288    Store B             171        1004      7741700         0   \n",
       "473  20288    Store B             184        1295     11250500         0   \n",
       "\n",
       "     Avg Sales per Customer  Avg Sales per Item      Date  Month    ...      \\\n",
       "469                   34921                6089  9/1/2011      9    ...       \n",
       "470                   49467                7270  9/2/2011      9    ...       \n",
       "471                   53619                7599  9/3/2011      9    ...       \n",
       "472                   45273                7711  9/4/2011      9    ...       \n",
       "473                   61144                8688  9/5/2011      9    ...       \n",
       "\n",
       "     Rainy Snowy  Sunny  Friday  Monday  Saturday  Sunday  Thursday  Tuesday  \\\n",
       "469      0     0      0       0       0         0       0         1        0   \n",
       "470      0     0      0       1       0         0       0         0        0   \n",
       "471      0     0      0       0       0         1       0         0        0   \n",
       "472      0     0      0       0       0         0       1         0        0   \n",
       "473      0     0      1       0       1         0       0         0        0   \n",
       "\n",
       "     Wednesday  \n",
       "469          0  \n",
       "470          0  \n",
       "471          0  \n",
       "472          0  \n",
       "473          0  \n",
       "\n",
       "[5 rows x 34 columns]"
      ]
     },
     "execution_count": 46,
     "metadata": {},
     "output_type": "execute_result"
    }
   ],
   "source": [
    "korea_storeB = pd.concat([korea_storeB, dummy_week], axis = 1)\n",
    "korea_storeB.head()"
   ]
  },
  {
   "cell_type": "code",
   "execution_count": 47,
   "metadata": {},
   "outputs": [
    {
     "data": {
      "text/html": [
       "<div>\n",
       "<style>\n",
       "    .dataframe thead tr:only-child th {\n",
       "        text-align: right;\n",
       "    }\n",
       "\n",
       "    .dataframe thead th {\n",
       "        text-align: left;\n",
       "    }\n",
       "\n",
       "    .dataframe tbody tr th {\n",
       "        vertical-align: top;\n",
       "    }\n",
       "</style>\n",
       "<table border=\"1\" class=\"dataframe\">\n",
       "  <thead>\n",
       "    <tr style=\"text-align: right;\">\n",
       "      <th></th>\n",
       "      <th>1</th>\n",
       "      <th>2</th>\n",
       "      <th>3</th>\n",
       "      <th>4</th>\n",
       "      <th>5</th>\n",
       "      <th>6</th>\n",
       "      <th>7</th>\n",
       "      <th>8</th>\n",
       "      <th>9</th>\n",
       "      <th>10</th>\n",
       "      <th>11</th>\n",
       "      <th>12</th>\n",
       "    </tr>\n",
       "  </thead>\n",
       "  <tbody>\n",
       "    <tr>\n",
       "      <th>469</th>\n",
       "      <td>0</td>\n",
       "      <td>0</td>\n",
       "      <td>0</td>\n",
       "      <td>0</td>\n",
       "      <td>0</td>\n",
       "      <td>0</td>\n",
       "      <td>0</td>\n",
       "      <td>0</td>\n",
       "      <td>1</td>\n",
       "      <td>0</td>\n",
       "      <td>0</td>\n",
       "      <td>0</td>\n",
       "    </tr>\n",
       "    <tr>\n",
       "      <th>470</th>\n",
       "      <td>0</td>\n",
       "      <td>0</td>\n",
       "      <td>0</td>\n",
       "      <td>0</td>\n",
       "      <td>0</td>\n",
       "      <td>0</td>\n",
       "      <td>0</td>\n",
       "      <td>0</td>\n",
       "      <td>1</td>\n",
       "      <td>0</td>\n",
       "      <td>0</td>\n",
       "      <td>0</td>\n",
       "    </tr>\n",
       "    <tr>\n",
       "      <th>471</th>\n",
       "      <td>0</td>\n",
       "      <td>0</td>\n",
       "      <td>0</td>\n",
       "      <td>0</td>\n",
       "      <td>0</td>\n",
       "      <td>0</td>\n",
       "      <td>0</td>\n",
       "      <td>0</td>\n",
       "      <td>1</td>\n",
       "      <td>0</td>\n",
       "      <td>0</td>\n",
       "      <td>0</td>\n",
       "    </tr>\n",
       "    <tr>\n",
       "      <th>472</th>\n",
       "      <td>0</td>\n",
       "      <td>0</td>\n",
       "      <td>0</td>\n",
       "      <td>0</td>\n",
       "      <td>0</td>\n",
       "      <td>0</td>\n",
       "      <td>0</td>\n",
       "      <td>0</td>\n",
       "      <td>1</td>\n",
       "      <td>0</td>\n",
       "      <td>0</td>\n",
       "      <td>0</td>\n",
       "    </tr>\n",
       "    <tr>\n",
       "      <th>473</th>\n",
       "      <td>0</td>\n",
       "      <td>0</td>\n",
       "      <td>0</td>\n",
       "      <td>0</td>\n",
       "      <td>0</td>\n",
       "      <td>0</td>\n",
       "      <td>0</td>\n",
       "      <td>0</td>\n",
       "      <td>1</td>\n",
       "      <td>0</td>\n",
       "      <td>0</td>\n",
       "      <td>0</td>\n",
       "    </tr>\n",
       "  </tbody>\n",
       "</table>\n",
       "</div>"
      ],
      "text/plain": [
       "     1   2   3   4   5   6   7   8   9   10  11  12\n",
       "469   0   0   0   0   0   0   0   0   1   0   0   0\n",
       "470   0   0   0   0   0   0   0   0   1   0   0   0\n",
       "471   0   0   0   0   0   0   0   0   1   0   0   0\n",
       "472   0   0   0   0   0   0   0   0   1   0   0   0\n",
       "473   0   0   0   0   0   0   0   0   1   0   0   0"
      ]
     },
     "execution_count": 47,
     "metadata": {},
     "output_type": "execute_result"
    }
   ],
   "source": [
    "dummy_month = pd.get_dummies(korea_storeB['Month'])\n",
    "dummy_month.head()"
   ]
  },
  {
   "cell_type": "code",
   "execution_count": 48,
   "metadata": {
    "collapsed": true
   },
   "outputs": [],
   "source": [
    "dummy_month = dummy_month.rename(columns={1: 'Jan', 2: 'Feb', 3: 'March', 4: 'April', 5: 'May',\n",
    "                            6: 'June', 7: 'July', 8: 'Aug', 9:'Sept', 10 :'Oct',\n",
    "                            11: 'Nov', 12: 'Dec'})"
   ]
  },
  {
   "cell_type": "code",
   "execution_count": 49,
   "metadata": {},
   "outputs": [
    {
     "data": {
      "text/html": [
       "<div>\n",
       "<style>\n",
       "    .dataframe thead tr:only-child th {\n",
       "        text-align: right;\n",
       "    }\n",
       "\n",
       "    .dataframe thead th {\n",
       "        text-align: left;\n",
       "    }\n",
       "\n",
       "    .dataframe tbody tr th {\n",
       "        vertical-align: top;\n",
       "    }\n",
       "</style>\n",
       "<table border=\"1\" class=\"dataframe\">\n",
       "  <thead>\n",
       "    <tr style=\"text-align: right;\">\n",
       "      <th></th>\n",
       "      <th>Jan</th>\n",
       "      <th>Feb</th>\n",
       "      <th>March</th>\n",
       "      <th>April</th>\n",
       "      <th>May</th>\n",
       "      <th>June</th>\n",
       "      <th>July</th>\n",
       "      <th>Aug</th>\n",
       "      <th>Sept</th>\n",
       "      <th>Oct</th>\n",
       "      <th>Nov</th>\n",
       "      <th>Dec</th>\n",
       "    </tr>\n",
       "  </thead>\n",
       "  <tbody>\n",
       "    <tr>\n",
       "      <th>469</th>\n",
       "      <td>0</td>\n",
       "      <td>0</td>\n",
       "      <td>0</td>\n",
       "      <td>0</td>\n",
       "      <td>0</td>\n",
       "      <td>0</td>\n",
       "      <td>0</td>\n",
       "      <td>0</td>\n",
       "      <td>1</td>\n",
       "      <td>0</td>\n",
       "      <td>0</td>\n",
       "      <td>0</td>\n",
       "    </tr>\n",
       "    <tr>\n",
       "      <th>470</th>\n",
       "      <td>0</td>\n",
       "      <td>0</td>\n",
       "      <td>0</td>\n",
       "      <td>0</td>\n",
       "      <td>0</td>\n",
       "      <td>0</td>\n",
       "      <td>0</td>\n",
       "      <td>0</td>\n",
       "      <td>1</td>\n",
       "      <td>0</td>\n",
       "      <td>0</td>\n",
       "      <td>0</td>\n",
       "    </tr>\n",
       "    <tr>\n",
       "      <th>471</th>\n",
       "      <td>0</td>\n",
       "      <td>0</td>\n",
       "      <td>0</td>\n",
       "      <td>0</td>\n",
       "      <td>0</td>\n",
       "      <td>0</td>\n",
       "      <td>0</td>\n",
       "      <td>0</td>\n",
       "      <td>1</td>\n",
       "      <td>0</td>\n",
       "      <td>0</td>\n",
       "      <td>0</td>\n",
       "    </tr>\n",
       "    <tr>\n",
       "      <th>472</th>\n",
       "      <td>0</td>\n",
       "      <td>0</td>\n",
       "      <td>0</td>\n",
       "      <td>0</td>\n",
       "      <td>0</td>\n",
       "      <td>0</td>\n",
       "      <td>0</td>\n",
       "      <td>0</td>\n",
       "      <td>1</td>\n",
       "      <td>0</td>\n",
       "      <td>0</td>\n",
       "      <td>0</td>\n",
       "    </tr>\n",
       "    <tr>\n",
       "      <th>473</th>\n",
       "      <td>0</td>\n",
       "      <td>0</td>\n",
       "      <td>0</td>\n",
       "      <td>0</td>\n",
       "      <td>0</td>\n",
       "      <td>0</td>\n",
       "      <td>0</td>\n",
       "      <td>0</td>\n",
       "      <td>1</td>\n",
       "      <td>0</td>\n",
       "      <td>0</td>\n",
       "      <td>0</td>\n",
       "    </tr>\n",
       "  </tbody>\n",
       "</table>\n",
       "</div>"
      ],
      "text/plain": [
       "     Jan  Feb  March  April  May  June  July  Aug  Sept  Oct  Nov  Dec\n",
       "469    0    0      0      0    0     0     0    0     1    0    0    0\n",
       "470    0    0      0      0    0     0     0    0     1    0    0    0\n",
       "471    0    0      0      0    0     0     0    0     1    0    0    0\n",
       "472    0    0      0      0    0     0     0    0     1    0    0    0\n",
       "473    0    0      0      0    0     0     0    0     1    0    0    0"
      ]
     },
     "execution_count": 49,
     "metadata": {},
     "output_type": "execute_result"
    }
   ],
   "source": [
    "dummy_month.head()"
   ]
  },
  {
   "cell_type": "code",
   "execution_count": 50,
   "metadata": {},
   "outputs": [
    {
     "data": {
      "text/plain": [
       "dtype('int64')"
      ]
     },
     "execution_count": 50,
     "metadata": {},
     "output_type": "execute_result"
    }
   ],
   "source": [
    "korea_storeB['Month'].dtypes"
   ]
  },
  {
   "cell_type": "code",
   "execution_count": 51,
   "metadata": {},
   "outputs": [
    {
     "data": {
      "text/html": [
       "<div>\n",
       "<style>\n",
       "    .dataframe thead tr:only-child th {\n",
       "        text-align: right;\n",
       "    }\n",
       "\n",
       "    .dataframe thead th {\n",
       "        text-align: left;\n",
       "    }\n",
       "\n",
       "    .dataframe tbody tr th {\n",
       "        vertical-align: top;\n",
       "    }\n",
       "</style>\n",
       "<table border=\"1\" class=\"dataframe\">\n",
       "  <thead>\n",
       "    <tr style=\"text-align: right;\">\n",
       "      <th></th>\n",
       "      <th>Code</th>\n",
       "      <th>Store Name</th>\n",
       "      <th># of Customers</th>\n",
       "      <th># of Items</th>\n",
       "      <th>Total Sales</th>\n",
       "      <th>Discount</th>\n",
       "      <th>Avg Sales per Customer</th>\n",
       "      <th>Avg Sales per Item</th>\n",
       "      <th>Date</th>\n",
       "      <th>Month</th>\n",
       "      <th>...</th>\n",
       "      <th>March</th>\n",
       "      <th>April</th>\n",
       "      <th>May</th>\n",
       "      <th>June</th>\n",
       "      <th>July</th>\n",
       "      <th>Aug</th>\n",
       "      <th>Sept</th>\n",
       "      <th>Oct</th>\n",
       "      <th>Nov</th>\n",
       "      <th>Dec</th>\n",
       "    </tr>\n",
       "  </thead>\n",
       "  <tbody>\n",
       "    <tr>\n",
       "      <th>1027</th>\n",
       "      <td>20288</td>\n",
       "      <td>Store B</td>\n",
       "      <td>105</td>\n",
       "      <td>687</td>\n",
       "      <td>5273500</td>\n",
       "      <td>0</td>\n",
       "      <td>50224</td>\n",
       "      <td>7676</td>\n",
       "      <td>3/12/2013</td>\n",
       "      <td>3</td>\n",
       "      <td>...</td>\n",
       "      <td>1</td>\n",
       "      <td>0</td>\n",
       "      <td>0</td>\n",
       "      <td>0</td>\n",
       "      <td>0</td>\n",
       "      <td>0</td>\n",
       "      <td>0</td>\n",
       "      <td>0</td>\n",
       "      <td>0</td>\n",
       "      <td>0</td>\n",
       "    </tr>\n",
       "    <tr>\n",
       "      <th>1028</th>\n",
       "      <td>20288</td>\n",
       "      <td>Store B</td>\n",
       "      <td>94</td>\n",
       "      <td>598</td>\n",
       "      <td>4099000</td>\n",
       "      <td>0</td>\n",
       "      <td>43606</td>\n",
       "      <td>6855</td>\n",
       "      <td>3/13/2013</td>\n",
       "      <td>3</td>\n",
       "      <td>...</td>\n",
       "      <td>1</td>\n",
       "      <td>0</td>\n",
       "      <td>0</td>\n",
       "      <td>0</td>\n",
       "      <td>0</td>\n",
       "      <td>0</td>\n",
       "      <td>0</td>\n",
       "      <td>0</td>\n",
       "      <td>0</td>\n",
       "      <td>0</td>\n",
       "    </tr>\n",
       "    <tr>\n",
       "      <th>1029</th>\n",
       "      <td>20288</td>\n",
       "      <td>Store B</td>\n",
       "      <td>120</td>\n",
       "      <td>848</td>\n",
       "      <td>5519140</td>\n",
       "      <td>1889960</td>\n",
       "      <td>45993</td>\n",
       "      <td>6508</td>\n",
       "      <td>3/14/2013</td>\n",
       "      <td>3</td>\n",
       "      <td>...</td>\n",
       "      <td>1</td>\n",
       "      <td>0</td>\n",
       "      <td>0</td>\n",
       "      <td>0</td>\n",
       "      <td>0</td>\n",
       "      <td>0</td>\n",
       "      <td>0</td>\n",
       "      <td>0</td>\n",
       "      <td>0</td>\n",
       "      <td>0</td>\n",
       "    </tr>\n",
       "    <tr>\n",
       "      <th>1030</th>\n",
       "      <td>20288</td>\n",
       "      <td>Store B</td>\n",
       "      <td>170</td>\n",
       "      <td>2051</td>\n",
       "      <td>10999960</td>\n",
       "      <td>3807440</td>\n",
       "      <td>64706</td>\n",
       "      <td>5363</td>\n",
       "      <td>3/15/2013</td>\n",
       "      <td>3</td>\n",
       "      <td>...</td>\n",
       "      <td>1</td>\n",
       "      <td>0</td>\n",
       "      <td>0</td>\n",
       "      <td>0</td>\n",
       "      <td>0</td>\n",
       "      <td>0</td>\n",
       "      <td>0</td>\n",
       "      <td>0</td>\n",
       "      <td>0</td>\n",
       "      <td>0</td>\n",
       "    </tr>\n",
       "    <tr>\n",
       "      <th>1031</th>\n",
       "      <td>20288</td>\n",
       "      <td>Store B</td>\n",
       "      <td>183</td>\n",
       "      <td>1628</td>\n",
       "      <td>8645680</td>\n",
       "      <td>2989520</td>\n",
       "      <td>47244</td>\n",
       "      <td>5311</td>\n",
       "      <td>3/16/2013</td>\n",
       "      <td>3</td>\n",
       "      <td>...</td>\n",
       "      <td>1</td>\n",
       "      <td>0</td>\n",
       "      <td>0</td>\n",
       "      <td>0</td>\n",
       "      <td>0</td>\n",
       "      <td>0</td>\n",
       "      <td>0</td>\n",
       "      <td>0</td>\n",
       "      <td>0</td>\n",
       "      <td>0</td>\n",
       "    </tr>\n",
       "  </tbody>\n",
       "</table>\n",
       "<p>5 rows × 46 columns</p>\n",
       "</div>"
      ],
      "text/plain": [
       "       Code Store Name  # of Customers  # of Items  Total Sales  Discount  \\\n",
       "1027  20288    Store B             105         687      5273500         0   \n",
       "1028  20288    Store B              94         598      4099000         0   \n",
       "1029  20288    Store B             120         848      5519140   1889960   \n",
       "1030  20288    Store B             170        2051     10999960   3807440   \n",
       "1031  20288    Store B             183        1628      8645680   2989520   \n",
       "\n",
       "      Avg Sales per Customer  Avg Sales per Item       Date  Month ...   \\\n",
       "1027                   50224                7676  3/12/2013      3 ...    \n",
       "1028                   43606                6855  3/13/2013      3 ...    \n",
       "1029                   45993                6508  3/14/2013      3 ...    \n",
       "1030                   64706                5363  3/15/2013      3 ...    \n",
       "1031                   47244                5311  3/16/2013      3 ...    \n",
       "\n",
       "      March April  May  June  July  Aug  Sept  Oct  Nov  Dec  \n",
       "1027      1     0    0     0     0    0     0    0    0    0  \n",
       "1028      1     0    0     0     0    0     0    0    0    0  \n",
       "1029      1     0    0     0     0    0     0    0    0    0  \n",
       "1030      1     0    0     0     0    0     0    0    0    0  \n",
       "1031      1     0    0     0     0    0     0    0    0    0  \n",
       "\n",
       "[5 rows x 46 columns]"
      ]
     },
     "execution_count": 51,
     "metadata": {},
     "output_type": "execute_result"
    }
   ],
   "source": [
    "korea_storeB = pd.concat([korea_storeB, dummy_month], axis = 1)\n",
    "korea_storeB.tail()"
   ]
  },
  {
   "cell_type": "code",
   "execution_count": 52,
   "metadata": {
    "collapsed": true
   },
   "outputs": [],
   "source": [
    "korea_storeB_droppedColumns = korea_storeB.drop(['Month', 'Weekday', 'Outlook'], axis = 1)"
   ]
  },
  {
   "cell_type": "code",
   "execution_count": 53,
   "metadata": {},
   "outputs": [
    {
     "data": {
      "text/plain": [
       "Index(['Code', 'Store Name', '# of Customers', '# of Items', 'Total Sales',\n",
       "       'Discount', 'Avg Sales per Customer', 'Avg Sales per Item', 'Date',\n",
       "       'Year', 'Distance from Station X(Meter)',\n",
       "       'Distance from Station X(Feet)', 'Distance from Station Y(Meter)',\n",
       "       'Distance from Station Y(Feet)', 'Distance from Main Street(Meter)',\n",
       "       'Distance from Main Street(Feet)', 'YenWonRatio', 'Holiday',\n",
       "       'ActualHighTemp', 'Japanese Tourists', 'Cloudy', 'Rainy', 'Snowy',\n",
       "       'Sunny', 'Friday', 'Monday', 'Saturday', 'Sunday', 'Thursday',\n",
       "       'Tuesday', 'Wednesday', 'Jan', 'Feb', 'March', 'April', 'May', 'June',\n",
       "       'July', 'Aug', 'Sept', 'Oct', 'Nov', 'Dec'],\n",
       "      dtype='object')"
      ]
     },
     "execution_count": 53,
     "metadata": {},
     "output_type": "execute_result"
    }
   ],
   "source": [
    "korea_storeB_droppedColumns.columns"
   ]
  },
  {
   "cell_type": "markdown",
   "metadata": {},
   "source": [
    "# Feature Importance"
   ]
  },
  {
   "cell_type": "code",
   "execution_count": 54,
   "metadata": {},
   "outputs": [
    {
     "name": "stdout",
     "output_type": "stream",
     "text": [
      "Index(['Code', 'Store Name', '# of Customers', '# of Items', 'Total Sales',\n",
      "       'Discount', 'Avg Sales per Customer', 'Avg Sales per Item', 'Date',\n",
      "       'Year', 'Distance from Station X(Meter)',\n",
      "       'Distance from Station X(Feet)', 'Distance from Station Y(Meter)',\n",
      "       'Distance from Station Y(Feet)', 'Distance from Main Street(Meter)',\n",
      "       'Distance from Main Street(Feet)', 'YenWonRatio', 'Holiday',\n",
      "       'ActualHighTemp', 'Japanese Tourists', 'Cloudy', 'Rainy', 'Snowy',\n",
      "       'Sunny', 'Friday', 'Monday', 'Saturday', 'Sunday', 'Thursday',\n",
      "       'Tuesday', 'Wednesday', 'Jan', 'Feb', 'March', 'April', 'May', 'June',\n",
      "       'July', 'Aug', 'Sept', 'Oct', 'Nov', 'Dec'],\n",
      "      dtype='object')\n"
     ]
    }
   ],
   "source": [
    "#feature names as a list\n",
    "\n",
    "col = korea_storeB_droppedColumns.columns\n",
    "print(col)"
   ]
  },
  {
   "cell_type": "markdown",
   "metadata": {},
   "source": [
    "Dropping the features that are not very important. Howver, here I am dropping other columns which are quite intutive that may affect the sales directly like '#of Customers' and '# of items'. These features are quite obvious that increase the total sales. Hence dropping them. This gives us a better idea on what other features tend to affect sales"
   ]
  },
  {
   "cell_type": "code",
   "execution_count": 55,
   "metadata": {},
   "outputs": [
    {
     "data": {
      "text/html": [
       "<div>\n",
       "<style>\n",
       "    .dataframe thead tr:only-child th {\n",
       "        text-align: right;\n",
       "    }\n",
       "\n",
       "    .dataframe thead th {\n",
       "        text-align: left;\n",
       "    }\n",
       "\n",
       "    .dataframe tbody tr th {\n",
       "        vertical-align: top;\n",
       "    }\n",
       "</style>\n",
       "<table border=\"1\" class=\"dataframe\">\n",
       "  <thead>\n",
       "    <tr style=\"text-align: right;\">\n",
       "      <th></th>\n",
       "      <th>Discount</th>\n",
       "      <th>YenWonRatio</th>\n",
       "      <th>Holiday</th>\n",
       "      <th>ActualHighTemp</th>\n",
       "      <th>Japanese Tourists</th>\n",
       "      <th>Cloudy</th>\n",
       "      <th>Rainy</th>\n",
       "      <th>Snowy</th>\n",
       "      <th>Sunny</th>\n",
       "      <th>Friday</th>\n",
       "      <th>...</th>\n",
       "      <th>March</th>\n",
       "      <th>April</th>\n",
       "      <th>May</th>\n",
       "      <th>June</th>\n",
       "      <th>July</th>\n",
       "      <th>Aug</th>\n",
       "      <th>Sept</th>\n",
       "      <th>Oct</th>\n",
       "      <th>Nov</th>\n",
       "      <th>Dec</th>\n",
       "    </tr>\n",
       "  </thead>\n",
       "  <tbody>\n",
       "    <tr>\n",
       "      <th>469</th>\n",
       "      <td>0</td>\n",
       "      <td>13.93</td>\n",
       "      <td>0</td>\n",
       "      <td>87</td>\n",
       "      <td>8.058535</td>\n",
       "      <td>0</td>\n",
       "      <td>0</td>\n",
       "      <td>0</td>\n",
       "      <td>0</td>\n",
       "      <td>0</td>\n",
       "      <td>...</td>\n",
       "      <td>0</td>\n",
       "      <td>0</td>\n",
       "      <td>0</td>\n",
       "      <td>0</td>\n",
       "      <td>0</td>\n",
       "      <td>0</td>\n",
       "      <td>1</td>\n",
       "      <td>0</td>\n",
       "      <td>0</td>\n",
       "      <td>0</td>\n",
       "    </tr>\n",
       "    <tr>\n",
       "      <th>470</th>\n",
       "      <td>0</td>\n",
       "      <td>13.83</td>\n",
       "      <td>0</td>\n",
       "      <td>89</td>\n",
       "      <td>8.058535</td>\n",
       "      <td>0</td>\n",
       "      <td>0</td>\n",
       "      <td>0</td>\n",
       "      <td>0</td>\n",
       "      <td>1</td>\n",
       "      <td>...</td>\n",
       "      <td>0</td>\n",
       "      <td>0</td>\n",
       "      <td>0</td>\n",
       "      <td>0</td>\n",
       "      <td>0</td>\n",
       "      <td>0</td>\n",
       "      <td>1</td>\n",
       "      <td>0</td>\n",
       "      <td>0</td>\n",
       "      <td>0</td>\n",
       "    </tr>\n",
       "    <tr>\n",
       "      <th>471</th>\n",
       "      <td>0</td>\n",
       "      <td>13.83</td>\n",
       "      <td>0</td>\n",
       "      <td>87</td>\n",
       "      <td>8.058535</td>\n",
       "      <td>1</td>\n",
       "      <td>0</td>\n",
       "      <td>0</td>\n",
       "      <td>0</td>\n",
       "      <td>0</td>\n",
       "      <td>...</td>\n",
       "      <td>0</td>\n",
       "      <td>0</td>\n",
       "      <td>0</td>\n",
       "      <td>0</td>\n",
       "      <td>0</td>\n",
       "      <td>0</td>\n",
       "      <td>1</td>\n",
       "      <td>0</td>\n",
       "      <td>0</td>\n",
       "      <td>0</td>\n",
       "    </tr>\n",
       "    <tr>\n",
       "      <th>472</th>\n",
       "      <td>0</td>\n",
       "      <td>13.85</td>\n",
       "      <td>0</td>\n",
       "      <td>84</td>\n",
       "      <td>8.058535</td>\n",
       "      <td>1</td>\n",
       "      <td>0</td>\n",
       "      <td>0</td>\n",
       "      <td>0</td>\n",
       "      <td>0</td>\n",
       "      <td>...</td>\n",
       "      <td>0</td>\n",
       "      <td>0</td>\n",
       "      <td>0</td>\n",
       "      <td>0</td>\n",
       "      <td>0</td>\n",
       "      <td>0</td>\n",
       "      <td>1</td>\n",
       "      <td>0</td>\n",
       "      <td>0</td>\n",
       "      <td>0</td>\n",
       "    </tr>\n",
       "    <tr>\n",
       "      <th>473</th>\n",
       "      <td>0</td>\n",
       "      <td>13.85</td>\n",
       "      <td>0</td>\n",
       "      <td>82</td>\n",
       "      <td>8.058535</td>\n",
       "      <td>0</td>\n",
       "      <td>0</td>\n",
       "      <td>0</td>\n",
       "      <td>1</td>\n",
       "      <td>0</td>\n",
       "      <td>...</td>\n",
       "      <td>0</td>\n",
       "      <td>0</td>\n",
       "      <td>0</td>\n",
       "      <td>0</td>\n",
       "      <td>0</td>\n",
       "      <td>0</td>\n",
       "      <td>1</td>\n",
       "      <td>0</td>\n",
       "      <td>0</td>\n",
       "      <td>0</td>\n",
       "    </tr>\n",
       "  </tbody>\n",
       "</table>\n",
       "<p>5 rows × 28 columns</p>\n",
       "</div>"
      ],
      "text/plain": [
       "     Discount  YenWonRatio  Holiday  ActualHighTemp  Japanese Tourists  \\\n",
       "469         0        13.93        0              87           8.058535   \n",
       "470         0        13.83        0              89           8.058535   \n",
       "471         0        13.83        0              87           8.058535   \n",
       "472         0        13.85        0              84           8.058535   \n",
       "473         0        13.85        0              82           8.058535   \n",
       "\n",
       "     Cloudy  Rainy  Snowy  Sunny  Friday ...   March  April  May  June  July  \\\n",
       "469       0      0      0      0       0 ...       0      0    0     0     0   \n",
       "470       0      0      0      0       1 ...       0      0    0     0     0   \n",
       "471       1      0      0      0       0 ...       0      0    0     0     0   \n",
       "472       1      0      0      0       0 ...       0      0    0     0     0   \n",
       "473       0      0      0      1       0 ...       0      0    0     0     0   \n",
       "\n",
       "     Aug  Sept  Oct  Nov  Dec  \n",
       "469    0     1    0    0    0  \n",
       "470    0     1    0    0    0  \n",
       "471    0     1    0    0    0  \n",
       "472    0     1    0    0    0  \n",
       "473    0     1    0    0    0  \n",
       "\n",
       "[5 rows x 28 columns]"
      ]
     },
     "execution_count": 55,
     "metadata": {},
     "output_type": "execute_result"
    }
   ],
   "source": [
    "#y includes our labels and x includes our features\n",
    "list = ['Code', '# of Customers','# of Items', 'Total Sales','Store Name', 'Avg Sales per Customer', 'Avg Sales per Item', 'Date',\n",
    "        'Year', 'Distance from Station X(Meter)', 'Distance from Station X(Feet)', 'Distance from Station Y(Meter)',\n",
    "        'Distance from Station Y(Feet)', 'Distance from Main Street(Meter)', 'Distance from Main Street(Feet)']\n",
    "x = korea_storeB_droppedColumns.drop(list,axis = 1 )\n",
    "\n",
    "y = korea_storeB_droppedColumns['Total Sales']\n",
    "x.head()"
   ]
  },
  {
   "cell_type": "code",
   "execution_count": 56,
   "metadata": {},
   "outputs": [
    {
     "data": {
      "image/png": "[encoded data removed]",
      "text/plain": [
       "<matplotlib.figure.Figure at 0x1a28d5e0b38>"
      ]
     },
     "metadata": {},
     "output_type": "display_data"
    }
   ],
   "source": [
    "plt.hist(y)\n",
    "plt.show()"
   ]
  },
  {
   "cell_type": "markdown",
   "metadata": {},
   "source": [
    "Here we can see the distribution of our total sales"
   ]
  },
  {
   "cell_type": "markdown",
   "metadata": {},
   "source": [
    "What if we want to observe all correlation between features? Yes, you are right. The answer is heatmap that is old but powerful plot method."
   ]
  },
  {
   "cell_type": "code",
   "execution_count": 57,
   "metadata": {},
   "outputs": [
    {
     "data": {
      "text/plain": [
       "<matplotlib.axes._subplots.AxesSubplot at 0x1a28d0804a8>"
      ]
     },
     "execution_count": 57,
     "metadata": {},
     "output_type": "execute_result"
    },
    {
     "data": {
      "image/png": "[encoded data removed]",
      "text/plain": [
       "<matplotlib.figure.Figure at 0x1a28cf13da0>"
      ]
     },
     "metadata": {},
     "output_type": "display_data"
    }
   ],
   "source": [
    "#correlation map\n",
    "f,ax = plt.subplots(figsize=(18, 18))\n",
    "sns.heatmap(x.corr(), annot=True, linewidths=.5, fmt= '.1f',ax=ax)"
   ]
  },
  {
   "cell_type": "markdown",
   "metadata": {},
   "source": [
    "From the heat map above we can see that '# of customers' and '# of items' are correlated with 'Total Sales' with a correlation coefficient equivalent to 0.8"
   ]
  },
  {
   "cell_type": "markdown",
   "metadata": {},
   "source": [
    "Therefore lets eliminate '# of customers' and '# of items' and lets use random forest and find accuracy according to chosen features."
   ]
  },
  {
   "cell_type": "code",
   "execution_count": 58,
   "metadata": {},
   "outputs": [
    {
     "ename": "ValueError",
     "evalue": "labels ['# of customers' '# of items'] not contained in axis",
     "output_type": "error",
     "traceback": [
      "\u001b[1;31m---------------------------------------------------------------------------\u001b[0m",
      "\u001b[1;31mValueError\u001b[0m                                Traceback (most recent call last)",
      "\u001b[1;32m<ipython-input-58-ac51c5e783d3>\u001b[0m in \u001b[0;36m<module>\u001b[1;34m()\u001b[0m\n\u001b[0;32m      1\u001b[0m \u001b[0mdrop_list1\u001b[0m \u001b[1;33m=\u001b[0m \u001b[1;33m[\u001b[0m\u001b[1;34m'# of customers'\u001b[0m\u001b[1;33m,\u001b[0m\u001b[1;34m'# of items'\u001b[0m\u001b[1;33m]\u001b[0m\u001b[1;33m\u001b[0m\u001b[0m\n\u001b[1;32m----> 2\u001b[1;33m \u001b[0mx_1\u001b[0m \u001b[1;33m=\u001b[0m \u001b[0mx\u001b[0m\u001b[1;33m.\u001b[0m\u001b[0mdrop\u001b[0m\u001b[1;33m(\u001b[0m\u001b[0mdrop_list1\u001b[0m\u001b[1;33m,\u001b[0m\u001b[0maxis\u001b[0m \u001b[1;33m=\u001b[0m \u001b[1;36m1\u001b[0m \u001b[1;33m)\u001b[0m\u001b[1;33m\u001b[0m\u001b[0m\n\u001b[0m\u001b[0;32m      3\u001b[0m \u001b[0mx_1\u001b[0m\u001b[1;33m.\u001b[0m\u001b[0mhead\u001b[0m\u001b[1;33m(\u001b[0m\u001b[1;33m)\u001b[0m\u001b[1;33m\u001b[0m\u001b[0m\n",
      "\u001b[1;32m~\\Anaconda3\\lib\\site-packages\\pandas\\core\\generic.py\u001b[0m in \u001b[0;36mdrop\u001b[1;34m(self, labels, axis, level, inplace, errors)\u001b[0m\n\u001b[0;32m   2159\u001b[0m                 \u001b[0mnew_axis\u001b[0m \u001b[1;33m=\u001b[0m \u001b[0maxis\u001b[0m\u001b[1;33m.\u001b[0m\u001b[0mdrop\u001b[0m\u001b[1;33m(\u001b[0m\u001b[0mlabels\u001b[0m\u001b[1;33m,\u001b[0m \u001b[0mlevel\u001b[0m\u001b[1;33m=\u001b[0m\u001b[0mlevel\u001b[0m\u001b[1;33m,\u001b[0m \u001b[0merrors\u001b[0m\u001b[1;33m=\u001b[0m\u001b[0merrors\u001b[0m\u001b[1;33m)\u001b[0m\u001b[1;33m\u001b[0m\u001b[0m\n\u001b[0;32m   2160\u001b[0m             \u001b[1;32melse\u001b[0m\u001b[1;33m:\u001b[0m\u001b[1;33m\u001b[0m\u001b[0m\n\u001b[1;32m-> 2161\u001b[1;33m                 \u001b[0mnew_axis\u001b[0m \u001b[1;33m=\u001b[0m \u001b[0maxis\u001b[0m\u001b[1;33m.\u001b[0m\u001b[0mdrop\u001b[0m\u001b[1;33m(\u001b[0m\u001b[0mlabels\u001b[0m\u001b[1;33m,\u001b[0m \u001b[0merrors\u001b[0m\u001b[1;33m=\u001b[0m\u001b[0merrors\u001b[0m\u001b[1;33m)\u001b[0m\u001b[1;33m\u001b[0m\u001b[0m\n\u001b[0m\u001b[0;32m   2162\u001b[0m             \u001b[0mdropped\u001b[0m \u001b[1;33m=\u001b[0m \u001b[0mself\u001b[0m\u001b[1;33m.\u001b[0m\u001b[0mreindex\u001b[0m\u001b[1;33m(\u001b[0m\u001b[1;33m**\u001b[0m\u001b[1;33m{\u001b[0m\u001b[0maxis_name\u001b[0m\u001b[1;33m:\u001b[0m \u001b[0mnew_axis\u001b[0m\u001b[1;33m}\u001b[0m\u001b[1;33m)\u001b[0m\u001b[1;33m\u001b[0m\u001b[0m\n\u001b[0;32m   2163\u001b[0m             \u001b[1;32mtry\u001b[0m\u001b[1;33m:\u001b[0m\u001b[1;33m\u001b[0m\u001b[0m\n",
      "\u001b[1;32m~\\Anaconda3\\lib\\site-packages\\pandas\\core\\indexes\\base.py\u001b[0m in \u001b[0;36mdrop\u001b[1;34m(self, labels, errors)\u001b[0m\n\u001b[0;32m   3622\u001b[0m             \u001b[1;32mif\u001b[0m \u001b[0merrors\u001b[0m \u001b[1;33m!=\u001b[0m \u001b[1;34m'ignore'\u001b[0m\u001b[1;33m:\u001b[0m\u001b[1;33m\u001b[0m\u001b[0m\n\u001b[0;32m   3623\u001b[0m                 raise ValueError('labels %s not contained in axis' %\n\u001b[1;32m-> 3624\u001b[1;33m                                  labels[mask])\n\u001b[0m\u001b[0;32m   3625\u001b[0m             \u001b[0mindexer\u001b[0m \u001b[1;33m=\u001b[0m \u001b[0mindexer\u001b[0m\u001b[1;33m[\u001b[0m\u001b[1;33m~\u001b[0m\u001b[0mmask\u001b[0m\u001b[1;33m]\u001b[0m\u001b[1;33m\u001b[0m\u001b[0m\n\u001b[0;32m   3626\u001b[0m         \u001b[1;32mreturn\u001b[0m \u001b[0mself\u001b[0m\u001b[1;33m.\u001b[0m\u001b[0mdelete\u001b[0m\u001b[1;33m(\u001b[0m\u001b[0mindexer\u001b[0m\u001b[1;33m)\u001b[0m\u001b[1;33m\u001b[0m\u001b[0m\n",
      "\u001b[1;31mValueError\u001b[0m: labels ['# of customers' '# of items'] not contained in axis"
     ]
    }
   ],
   "source": [
    "drop_list1 = ['# of customers','# of items']\n",
    "x_1 = x.drop(drop_list1,axis = 1 )        \n",
    "x_1.head()"
   ]
  },
  {
   "cell_type": "markdown",
   "metadata": {},
   "source": [
    "Lets find the next highest predictors using random forest"
   ]
  },
  {
   "cell_type": "code",
   "execution_count": 59,
   "metadata": {
    "collapsed": true
   },
   "outputs": [],
   "source": [
    "from sklearn.model_selection import train_test_split\n",
    "from sklearn.ensemble import RandomForestClassifier\n",
    "from sklearn.metrics import f1_score,confusion_matrix\n",
    "from sklearn.metrics import accuracy_score\n",
    "\n",
    "# split data train 70 % and test 30 %\n",
    "x_train, x_test, y_train, y_test = train_test_split(x, y, test_size=0.3, random_state=42)\n",
    "\n",
    "\n"
   ]
  },
  {
   "cell_type": "code",
   "execution_count": 60,
   "metadata": {},
   "outputs": [
    {
     "data": {
      "text/plain": [
       "LinearRegression(copy_X=True, fit_intercept=True, n_jobs=1, normalize=False)"
      ]
     },
     "execution_count": 60,
     "metadata": {},
     "output_type": "execute_result"
    }
   ],
   "source": [
    "from sklearn.linear_model import LinearRegression\n",
    "\n",
    "regression_model = LinearRegression()\n",
    "regression_model.fit(x_train, y_train)"
   ]
  },
  {
   "cell_type": "code",
   "execution_count": 61,
   "metadata": {},
   "outputs": [
    {
     "name": "stdout",
     "output_type": "stream",
     "text": [
      "The coefficient for Discount is 0.5471379705052452\n",
      "The coefficient for YenWonRatio is 1406124.0757384563\n",
      "The coefficient for Holiday is 126903.4295995888\n",
      "The coefficient for ActualHighTemp is 25999.602810848504\n",
      "The coefficient for Japanese Tourists is 3038652.447213405\n",
      "The coefficient for Cloudy is 1069540.8849843193\n",
      "The coefficient for Rainy is 1447452.9720010161\n",
      "The coefficient for Snowy is 1173267.1010915102\n",
      "The coefficient for Sunny is 1526816.4498459657\n",
      "The coefficient for Friday is -55152.20215449331\n",
      "The coefficient for Monday is 821357.8300807569\n",
      "The coefficient for Saturday is 1251223.0646047762\n",
      "The coefficient for Sunday is 1138333.5511787292\n",
      "The coefficient for Thursday is -700533.2829038582\n",
      "The coefficient for Tuesday is -969739.4606028299\n",
      "The coefficient for Wednesday is -1485489.5002032567\n",
      "The coefficient for Jan is -621560.0082526908\n",
      "The coefficient for Feb is -918670.8584981562\n",
      "The coefficient for March is 1202184.4492842394\n",
      "The coefficient for April is 452608.66228423966\n",
      "The coefficient for May is 591448.0477924581\n",
      "The coefficient for June is -1238796.1707144135\n",
      "The coefficient for July is -1368142.0748197483\n",
      "The coefficient for Aug is 974336.0298141544\n",
      "The coefficient for Sept is 591050.9274378754\n",
      "The coefficient for Oct is 94791.8540468621\n",
      "The coefficient for Nov is -30545.566444642376\n",
      "The coefficient for Dec is 271294.7080692344\n"
     ]
    }
   ],
   "source": [
    "for idx, col_name in enumerate(x_train.columns):\n",
    "    print(\"The coefficient for {} is {}\".format(col_name, regression_model.coef_[idx]))"
   ]
  },
  {
   "cell_type": "code",
   "execution_count": 62,
   "metadata": {},
   "outputs": [
    {
     "name": "stdout",
     "output_type": "stream",
     "text": [
      "The intercept for our model is -37119396.84280116\n"
     ]
    }
   ],
   "source": [
    "intercept = regression_model.intercept_\n",
    "\n",
    "print(\"The intercept for our model is {}\".format(intercept))"
   ]
  },
  {
   "cell_type": "markdown",
   "metadata": {},
   "source": [
    "# Scoring Model"
   ]
  },
  {
   "cell_type": "markdown",
   "metadata": {},
   "source": [
    "A common method of measuring the accuracy of regression models is to use the R squared statistic"
   ]
  },
  {
   "cell_type": "markdown",
   "metadata": {},
   "source": [
    " R2 can be determined using our test set and the model’s score method."
   ]
  },
  {
   "cell_type": "code",
   "execution_count": 63,
   "metadata": {},
   "outputs": [
    {
     "data": {
      "text/plain": [
       "0.47605648834640213"
      ]
     },
     "execution_count": 63,
     "metadata": {},
     "output_type": "execute_result"
    }
   ],
   "source": [
    "regression_model.score(x_test, y_test)"
   ]
  },
  {
   "cell_type": "markdown",
   "metadata": {},
   "source": [
    "So in our model, 47.61% of the variability in Y can be explained using X"
   ]
  },
  {
   "cell_type": "markdown",
   "metadata": {},
   "source": [
    "We can also get the mean squared error using scikit-learn’s mean_squared_error method and comparing the prediction for the test data set (data not used for training) with the ground truth for the data test set:"
   ]
  },
  {
   "cell_type": "code",
   "execution_count": 64,
   "metadata": {},
   "outputs": [
    {
     "data": {
      "text/plain": [
       "9083192244837.3008"
      ]
     },
     "execution_count": 64,
     "metadata": {},
     "output_type": "execute_result"
    }
   ],
   "source": [
    "from sklearn.metrics import mean_squared_error\n",
    "\n",
    "y_predict = regression_model.predict(x_test)\n",
    "\n",
    "regression_model_mse = mean_squared_error(y_predict, y_test)\n",
    "\n",
    "regression_model_mse"
   ]
  },
  {
   "cell_type": "code",
   "execution_count": 65,
   "metadata": {},
   "outputs": [
    {
     "data": {
      "text/plain": [
       "3013833.4799449854"
      ]
     },
     "execution_count": 65,
     "metadata": {},
     "output_type": "execute_result"
    }
   ],
   "source": [
    "import math\n",
    "\n",
    "math.sqrt(regression_model_mse)"
   ]
  },
  {
   "cell_type": "markdown",
   "metadata": {},
   "source": [
    "So we are an average of 3013458.44 Won away from the ground truth Won total sales when making predictions on our test set."
   ]
  },
  {
   "cell_type": "code",
   "execution_count": 79,
   "metadata": {},
   "outputs": [],
   "source": [
    "from matplotlib import pyplot"
   ]
  },
  {
   "cell_type": "code",
   "execution_count": 66,
   "metadata": {},
   "outputs": [
    {
     "data": {
      "text/plain": [
       "[-1485489.5002032567,\n",
       " -1368142.0748197483,\n",
       " -1238796.1707144135,\n",
       " -969739.46060282993,\n",
       " -918670.85849815619,\n",
       " -700533.28290385823,\n",
       " -621560.00825269078,\n",
       " -55152.202154493309,\n",
       " -30545.566444642376,\n",
       " 0.54713797050524515,\n",
       " 25999.602810848504,\n",
       " 94791.854046862107,\n",
       " 126903.4295995888,\n",
       " 271294.70806923439,\n",
       " 452608.66228423966,\n",
       " 591050.92743787542,\n",
       " 591448.04779245809,\n",
       " 821357.83008075692,\n",
       " 974336.02981415438,\n",
       " 1069540.8849843193,\n",
       " 1138333.5511787292,\n",
       " 1173267.1010915102,\n",
       " 1202184.4492842394,\n",
       " 1251223.0646047762,\n",
       " 1406124.0757384563,\n",
       " 1447452.9720010161,\n",
       " 1526816.4498459657,\n",
       " 3038652.4472134048]"
      ]
     },
     "execution_count": 66,
     "metadata": {},
     "output_type": "execute_result"
    }
   ],
   "source": [
    "sorted(regression_model.coef_)"
   ]
  },
  {
   "cell_type": "code",
   "execution_count": 107,
   "metadata": {},
   "outputs": [
    {
     "name": "stdout",
     "output_type": "stream",
     "text": [
      "['Discount', 'YenWonRatio', 'Holiday', 'ActualHighTemp', 'Japanese Tourists', 'Cloudy', 'Rainy', 'Snowy', 'Sunny', 'Friday', 'Monday', 'Saturday', 'Sunday', 'Thursday', 'Tuesday', 'Wednesday', 'Jan', 'Feb', 'March', 'April', 'May', 'June', 'July', 'Aug', 'Sept', 'Oct', 'Nov', 'Dec'] [0.54713797050524515, 1406124.0757384563, 126903.4295995888, 25999.602810848504, 3038652.4472134048, 1069540.8849843193, 1447452.9720010161, 1173267.1010915102, 1526816.4498459657, -55152.202154493309, 821357.83008075692, 1251223.0646047762, 1138333.5511787292, -700533.28290385823, -969739.46060282993, -1485489.5002032567, -621560.00825269078, -918670.85849815619, 1202184.4492842394, 452608.66228423966, 591448.04779245809, -1238796.1707144135, -1368142.0748197483, 974336.02981415438, 591050.92743787542, 94791.854046862107, -30545.566444642376, 271294.70806923439]\n"
     ]
    }
   ],
   "source": [
    "\n",
    "a = []\n",
    "c = []\n",
    "for idx, col_name in enumerate(x_train.columns):\n",
    "    sorted_coefficients = regression_model.coef_[idx]\n",
    "    a.append(regression_model.coef_[idx])\n",
    "    c.append(col_name)\n",
    "\n"
   ]
  },
  {
   "cell_type": "code",
   "execution_count": 113,
   "metadata": {},
   "outputs": [
    {
     "data": {
      "text/html": [
       "<div>\n",
       "<style>\n",
       "    .dataframe thead tr:only-child th {\n",
       "        text-align: right;\n",
       "    }\n",
       "\n",
       "    .dataframe thead th {\n",
       "        text-align: left;\n",
       "    }\n",
       "\n",
       "    .dataframe tbody tr th {\n",
       "        vertical-align: top;\n",
       "    }\n",
       "</style>\n",
       "<table border=\"1\" class=\"dataframe\">\n",
       "  <thead>\n",
       "    <tr style=\"text-align: right;\">\n",
       "      <th></th>\n",
       "      <th>Columns</th>\n",
       "      <th>Values</th>\n",
       "    </tr>\n",
       "  </thead>\n",
       "  <tbody>\n",
       "    <tr>\n",
       "      <th>0</th>\n",
       "      <td>Discount</td>\n",
       "      <td>5.471380e-01</td>\n",
       "    </tr>\n",
       "    <tr>\n",
       "      <th>1</th>\n",
       "      <td>YenWonRatio</td>\n",
       "      <td>1.406124e+06</td>\n",
       "    </tr>\n",
       "    <tr>\n",
       "      <th>2</th>\n",
       "      <td>Holiday</td>\n",
       "      <td>1.269034e+05</td>\n",
       "    </tr>\n",
       "    <tr>\n",
       "      <th>3</th>\n",
       "      <td>ActualHighTemp</td>\n",
       "      <td>2.599960e+04</td>\n",
       "    </tr>\n",
       "    <tr>\n",
       "      <th>4</th>\n",
       "      <td>Japanese Tourists</td>\n",
       "      <td>3.038652e+06</td>\n",
       "    </tr>\n",
       "  </tbody>\n",
       "</table>\n",
       "</div>"
      ],
      "text/plain": [
       "             Columns        Values\n",
       "0           Discount  5.471380e-01\n",
       "1        YenWonRatio  1.406124e+06\n",
       "2            Holiday  1.269034e+05\n",
       "3     ActualHighTemp  2.599960e+04\n",
       "4  Japanese Tourists  3.038652e+06"
      ]
     },
     "execution_count": 113,
     "metadata": {},
     "output_type": "execute_result"
    }
   ],
   "source": [
    "percentile_list = pd.DataFrame(\n",
    "    {'Columns': c,\n",
    "     'Values': a,\n",
    "    })\n",
    "\n",
    "percentile_list.head()\n",
    "\n"
   ]
  },
  {
   "cell_type": "code",
   "execution_count": 111,
   "metadata": {},
   "outputs": [],
   "source": [
    "test = percentile_list.sort_values('Values', ascending=False)"
   ]
  },
  {
   "cell_type": "code",
   "execution_count": 115,
   "metadata": {
    "scrolled": true
   },
   "outputs": [
    {
     "data": {
      "text/html": [
       "<div>\n",
       "<style>\n",
       "    .dataframe thead tr:only-child th {\n",
       "        text-align: right;\n",
       "    }\n",
       "\n",
       "    .dataframe thead th {\n",
       "        text-align: left;\n",
       "    }\n",
       "\n",
       "    .dataframe tbody tr th {\n",
       "        vertical-align: top;\n",
       "    }\n",
       "</style>\n",
       "<table border=\"1\" class=\"dataframe\">\n",
       "  <thead>\n",
       "    <tr style=\"text-align: right;\">\n",
       "      <th></th>\n",
       "      <th>Columns</th>\n",
       "      <th>Values</th>\n",
       "    </tr>\n",
       "  </thead>\n",
       "  <tbody>\n",
       "    <tr>\n",
       "      <th>4</th>\n",
       "      <td>Japanese Tourists</td>\n",
       "      <td>3.038652e+06</td>\n",
       "    </tr>\n",
       "    <tr>\n",
       "      <th>8</th>\n",
       "      <td>Sunny</td>\n",
       "      <td>1.526816e+06</td>\n",
       "    </tr>\n",
       "    <tr>\n",
       "      <th>6</th>\n",
       "      <td>Rainy</td>\n",
       "      <td>1.447453e+06</td>\n",
       "    </tr>\n",
       "    <tr>\n",
       "      <th>1</th>\n",
       "      <td>YenWonRatio</td>\n",
       "      <td>1.406124e+06</td>\n",
       "    </tr>\n",
       "    <tr>\n",
       "      <th>11</th>\n",
       "      <td>Saturday</td>\n",
       "      <td>1.251223e+06</td>\n",
       "    </tr>\n",
       "    <tr>\n",
       "      <th>18</th>\n",
       "      <td>March</td>\n",
       "      <td>1.202184e+06</td>\n",
       "    </tr>\n",
       "    <tr>\n",
       "      <th>7</th>\n",
       "      <td>Snowy</td>\n",
       "      <td>1.173267e+06</td>\n",
       "    </tr>\n",
       "    <tr>\n",
       "      <th>12</th>\n",
       "      <td>Sunday</td>\n",
       "      <td>1.138334e+06</td>\n",
       "    </tr>\n",
       "    <tr>\n",
       "      <th>5</th>\n",
       "      <td>Cloudy</td>\n",
       "      <td>1.069541e+06</td>\n",
       "    </tr>\n",
       "    <tr>\n",
       "      <th>23</th>\n",
       "      <td>Aug</td>\n",
       "      <td>9.743360e+05</td>\n",
       "    </tr>\n",
       "    <tr>\n",
       "      <th>10</th>\n",
       "      <td>Monday</td>\n",
       "      <td>8.213578e+05</td>\n",
       "    </tr>\n",
       "    <tr>\n",
       "      <th>20</th>\n",
       "      <td>May</td>\n",
       "      <td>5.914480e+05</td>\n",
       "    </tr>\n",
       "    <tr>\n",
       "      <th>24</th>\n",
       "      <td>Sept</td>\n",
       "      <td>5.910509e+05</td>\n",
       "    </tr>\n",
       "    <tr>\n",
       "      <th>19</th>\n",
       "      <td>April</td>\n",
       "      <td>4.526087e+05</td>\n",
       "    </tr>\n",
       "    <tr>\n",
       "      <th>27</th>\n",
       "      <td>Dec</td>\n",
       "      <td>2.712947e+05</td>\n",
       "    </tr>\n",
       "    <tr>\n",
       "      <th>2</th>\n",
       "      <td>Holiday</td>\n",
       "      <td>1.269034e+05</td>\n",
       "    </tr>\n",
       "    <tr>\n",
       "      <th>25</th>\n",
       "      <td>Oct</td>\n",
       "      <td>9.479185e+04</td>\n",
       "    </tr>\n",
       "    <tr>\n",
       "      <th>3</th>\n",
       "      <td>ActualHighTemp</td>\n",
       "      <td>2.599960e+04</td>\n",
       "    </tr>\n",
       "    <tr>\n",
       "      <th>0</th>\n",
       "      <td>Discount</td>\n",
       "      <td>5.471380e-01</td>\n",
       "    </tr>\n",
       "    <tr>\n",
       "      <th>26</th>\n",
       "      <td>Nov</td>\n",
       "      <td>-3.054557e+04</td>\n",
       "    </tr>\n",
       "    <tr>\n",
       "      <th>9</th>\n",
       "      <td>Friday</td>\n",
       "      <td>-5.515220e+04</td>\n",
       "    </tr>\n",
       "    <tr>\n",
       "      <th>16</th>\n",
       "      <td>Jan</td>\n",
       "      <td>-6.215600e+05</td>\n",
       "    </tr>\n",
       "    <tr>\n",
       "      <th>13</th>\n",
       "      <td>Thursday</td>\n",
       "      <td>-7.005333e+05</td>\n",
       "    </tr>\n",
       "    <tr>\n",
       "      <th>17</th>\n",
       "      <td>Feb</td>\n",
       "      <td>-9.186709e+05</td>\n",
       "    </tr>\n",
       "    <tr>\n",
       "      <th>14</th>\n",
       "      <td>Tuesday</td>\n",
       "      <td>-9.697395e+05</td>\n",
       "    </tr>\n",
       "    <tr>\n",
       "      <th>21</th>\n",
       "      <td>June</td>\n",
       "      <td>-1.238796e+06</td>\n",
       "    </tr>\n",
       "    <tr>\n",
       "      <th>22</th>\n",
       "      <td>July</td>\n",
       "      <td>-1.368142e+06</td>\n",
       "    </tr>\n",
       "    <tr>\n",
       "      <th>15</th>\n",
       "      <td>Wednesday</td>\n",
       "      <td>-1.485490e+06</td>\n",
       "    </tr>\n",
       "  </tbody>\n",
       "</table>\n",
       "</div>"
      ],
      "text/plain": [
       "              Columns        Values\n",
       "4   Japanese Tourists  3.038652e+06\n",
       "8               Sunny  1.526816e+06\n",
       "6               Rainy  1.447453e+06\n",
       "1         YenWonRatio  1.406124e+06\n",
       "11           Saturday  1.251223e+06\n",
       "18              March  1.202184e+06\n",
       "7               Snowy  1.173267e+06\n",
       "12             Sunday  1.138334e+06\n",
       "5              Cloudy  1.069541e+06\n",
       "23                Aug  9.743360e+05\n",
       "10             Monday  8.213578e+05\n",
       "20                May  5.914480e+05\n",
       "24               Sept  5.910509e+05\n",
       "19              April  4.526087e+05\n",
       "27                Dec  2.712947e+05\n",
       "2             Holiday  1.269034e+05\n",
       "25                Oct  9.479185e+04\n",
       "3      ActualHighTemp  2.599960e+04\n",
       "0            Discount  5.471380e-01\n",
       "26                Nov -3.054557e+04\n",
       "9              Friday -5.515220e+04\n",
       "16                Jan -6.215600e+05\n",
       "13           Thursday -7.005333e+05\n",
       "17                Feb -9.186709e+05\n",
       "14            Tuesday -9.697395e+05\n",
       "21               June -1.238796e+06\n",
       "22               July -1.368142e+06\n",
       "15          Wednesday -1.485490e+06"
      ]
     },
     "execution_count": 115,
     "metadata": {},
     "output_type": "execute_result"
    }
   ],
   "source": [
    "test"
   ]
  },
  {
   "cell_type": "markdown",
   "metadata": {},
   "source": [
    "# Final Analysis"
   ]
  },
  {
   "cell_type": "markdown",
   "metadata": {},
   "source": [
    "From the above table we can see that apart from '# of customers' and '# of tourists', the number of 'Japanese Tourists' seem to be one of the major contributors of Total Sales of Store B and we can see that Tuesday's and the month of July tend to negatively affect sales"
   ]
  },
  {
   "cell_type": "markdown",
   "metadata": {},
   "source": [
    "# Thank You!"
   ]
  },
  {
   "cell_type": "code",
   "execution_count": null,
   "metadata": {
    "collapsed": true
   },
   "outputs": [],
   "source": []
  }
 ],
 "metadata": {
  "kernelspec": {
   "display_name": "Python 3",
   "language": "python",
   "name": "python3"
  },
  "language_info": {
   "codemirror_mode": {
    "name": "ipython",
    "version": 3
   },
   "file_extension": ".py",
   "mimetype": "text/x-python",
   "name": "python",
   "nbconvert_exporter": "python",
   "pygments_lexer": "ipython3",
   "version": "3.6.3"
  }
 },
 "nbformat": 4,
 "nbformat_minor": 2
}
