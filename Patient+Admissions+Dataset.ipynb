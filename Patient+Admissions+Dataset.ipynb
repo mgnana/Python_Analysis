{
 "cells": [
  {
   "cell_type": "raw",
   "metadata": {},
   "source": [
    "Here, I have analysed a patient admssions dataset and derived additional features such as Length of stay in the hospital and Age of the patient based on the patient's DOB, encoding the gender and conversion of the string datatype to datetime datatype along with formatting, from the given dataset. I have then analysed the dataset post feature engineering and asked questions such as\n",
    "1) What is the count of admissions based on Gender\n",
    "2) What is the monthly admission rate?\n",
    "3) What is the Age range of people getting admitted?\n",
    "4) How does Age relate to the length of stay?\n",
    "\n",
    "\n",
    "For the below data preparation and analysis I have used pandas, numpy, seaborn and scipy packages of Python\n"
   ]
  },
  {
   "cell_type": "code",
   "execution_count": 1,
   "metadata": {
    "collapsed": true
   },
   "outputs": [],
   "source": [
    "import pandas as pd"
   ]
  },
  {
   "cell_type": "code",
   "execution_count": 2,
   "metadata": {
    "collapsed": true
   },
   "outputs": [],
   "source": [
    "jvion_df = pd.read_csv('C:/Users/marga/Noteboooks/.ipynb_checkpoints/Jvion.csv', low_memory = False)"
   ]
  },
  {
   "cell_type": "code",
   "execution_count": 3,
   "metadata": {
    "scrolled": true
   },
   "outputs": [
    {
     "data": {
      "text/html": [
       "<div>\n",
       "<style>\n",
       "    .dataframe thead tr:only-child th {\n",
       "        text-align: right;\n",
       "    }\n",
       "\n",
       "    .dataframe thead th {\n",
       "        text-align: left;\n",
       "    }\n",
       "\n",
       "    .dataframe tbody tr th {\n",
       "        vertical-align: top;\n",
       "    }\n",
       "</style>\n",
       "<table border=\"1\" class=\"dataframe\">\n",
       "  <thead>\n",
       "    <tr style=\"text-align: right;\">\n",
       "      <th></th>\n",
       "      <th>claimnumber</th>\n",
       "      <th>patientsex</th>\n",
       "      <th>patientdob</th>\n",
       "      <th>Patient Name</th>\n",
       "      <th>Admit Date</th>\n",
       "      <th>Discharge Date</th>\n",
       "    </tr>\n",
       "  </thead>\n",
       "  <tbody>\n",
       "    <tr>\n",
       "      <th>0</th>\n",
       "      <td>1XUH54450IX</td>\n",
       "      <td>M</td>\n",
       "      <td>10/19/1942</td>\n",
       "      <td>John Doe</td>\n",
       "      <td>1/13/2014</td>\n",
       "      <td>1/14/2014</td>\n",
       "    </tr>\n",
       "    <tr>\n",
       "      <th>1</th>\n",
       "      <td>1XUH77887IX</td>\n",
       "      <td>M</td>\n",
       "      <td>12/16/1964</td>\n",
       "      <td>Jane Smith</td>\n",
       "      <td>1/16/2014</td>\n",
       "      <td>1/18/2014</td>\n",
       "    </tr>\n",
       "    <tr>\n",
       "      <th>2</th>\n",
       "      <td>142XU1201IQH</td>\n",
       "      <td>M</td>\n",
       "      <td>10/14/1990</td>\n",
       "      <td>Alex Smith</td>\n",
       "      <td>10/17/2014</td>\n",
       "      <td>11/5/2014</td>\n",
       "    </tr>\n",
       "    <tr>\n",
       "      <th>3</th>\n",
       "      <td>1XU6XUXUXU01IX</td>\n",
       "      <td>M</td>\n",
       "      <td>3/31/1980</td>\n",
       "      <td>John Doe</td>\n",
       "      <td>1/15/2013</td>\n",
       "      <td>1/18/2013</td>\n",
       "    </tr>\n",
       "    <tr>\n",
       "      <th>4</th>\n",
       "      <td>140XU6H85IQH</td>\n",
       "      <td>M</td>\n",
       "      <td>10/14/1990</td>\n",
       "      <td>Alex Smith</td>\n",
       "      <td>3/31/2014</td>\n",
       "      <td>4/2/2014</td>\n",
       "    </tr>\n",
       "  </tbody>\n",
       "</table>\n",
       "</div>"
      ],
      "text/plain": [
       "      claimnumber patientsex  patientdob Patient Name  Admit Date  \\\n",
       "0     1XUH54450IX          M  10/19/1942     John Doe   1/13/2014   \n",
       "1     1XUH77887IX          M  12/16/1964   Jane Smith   1/16/2014   \n",
       "2    142XU1201IQH          M  10/14/1990   Alex Smith  10/17/2014   \n",
       "3  1XU6XUXUXU01IX          M   3/31/1980     John Doe   1/15/2013   \n",
       "4    140XU6H85IQH          M  10/14/1990   Alex Smith   3/31/2014   \n",
       "\n",
       "  Discharge Date  \n",
       "0      1/14/2014  \n",
       "1      1/18/2014  \n",
       "2      11/5/2014  \n",
       "3      1/18/2013  \n",
       "4       4/2/2014  "
      ]
     },
     "execution_count": 3,
     "metadata": {},
     "output_type": "execute_result"
    }
   ],
   "source": [
    "jvion_df.head()"
   ]
  },
  {
   "cell_type": "code",
   "execution_count": 4,
   "metadata": {
    "collapsed": true
   },
   "outputs": [],
   "source": [
    "def male_female_encode(patientsex_encode):\n",
    "    patientsex = patientsex_encode\n",
    "    \n",
    "    if patientsex == 'M':\n",
    "        return 0\n",
    "    else:\n",
    "        return 1\n"
   ]
  },
  {
   "cell_type": "code",
   "execution_count": 7,
   "metadata": {},
   "outputs": [],
   "source": [
    "jvion_df['SEX'] = jvion_df['patientsex'].apply(male_female_encode)"
   ]
  },
  {
   "cell_type": "code",
   "execution_count": 8,
   "metadata": {},
   "outputs": [
    {
     "data": {
      "text/html": [
       "<div>\n",
       "<style>\n",
       "    .dataframe thead tr:only-child th {\n",
       "        text-align: right;\n",
       "    }\n",
       "\n",
       "    .dataframe thead th {\n",
       "        text-align: left;\n",
       "    }\n",
       "\n",
       "    .dataframe tbody tr th {\n",
       "        vertical-align: top;\n",
       "    }\n",
       "</style>\n",
       "<table border=\"1\" class=\"dataframe\">\n",
       "  <thead>\n",
       "    <tr style=\"text-align: right;\">\n",
       "      <th></th>\n",
       "      <th>claimnumber</th>\n",
       "      <th>patientsex</th>\n",
       "      <th>patientdob</th>\n",
       "      <th>Patient Name</th>\n",
       "      <th>Admit Date</th>\n",
       "      <th>Discharge Date</th>\n",
       "      <th>SEX</th>\n",
       "    </tr>\n",
       "  </thead>\n",
       "  <tbody>\n",
       "    <tr>\n",
       "      <th>0</th>\n",
       "      <td>1XUH54450IX</td>\n",
       "      <td>M</td>\n",
       "      <td>10/19/1942</td>\n",
       "      <td>John Doe</td>\n",
       "      <td>1/13/2014</td>\n",
       "      <td>1/14/2014</td>\n",
       "      <td>0</td>\n",
       "    </tr>\n",
       "    <tr>\n",
       "      <th>1</th>\n",
       "      <td>1XUH77887IX</td>\n",
       "      <td>M</td>\n",
       "      <td>12/16/1964</td>\n",
       "      <td>Jane Smith</td>\n",
       "      <td>1/16/2014</td>\n",
       "      <td>1/18/2014</td>\n",
       "      <td>0</td>\n",
       "    </tr>\n",
       "    <tr>\n",
       "      <th>2</th>\n",
       "      <td>142XU1201IQH</td>\n",
       "      <td>M</td>\n",
       "      <td>10/14/1990</td>\n",
       "      <td>Alex Smith</td>\n",
       "      <td>10/17/2014</td>\n",
       "      <td>11/5/2014</td>\n",
       "      <td>0</td>\n",
       "    </tr>\n",
       "    <tr>\n",
       "      <th>3</th>\n",
       "      <td>1XU6XUXUXU01IX</td>\n",
       "      <td>M</td>\n",
       "      <td>3/31/1980</td>\n",
       "      <td>John Doe</td>\n",
       "      <td>1/15/2013</td>\n",
       "      <td>1/18/2013</td>\n",
       "      <td>0</td>\n",
       "    </tr>\n",
       "    <tr>\n",
       "      <th>4</th>\n",
       "      <td>140XU6H85IQH</td>\n",
       "      <td>M</td>\n",
       "      <td>10/14/1990</td>\n",
       "      <td>Alex Smith</td>\n",
       "      <td>3/31/2014</td>\n",
       "      <td>4/2/2014</td>\n",
       "      <td>0</td>\n",
       "    </tr>\n",
       "  </tbody>\n",
       "</table>\n",
       "</div>"
      ],
      "text/plain": [
       "      claimnumber patientsex  patientdob Patient Name  Admit Date  \\\n",
       "0     1XUH54450IX          M  10/19/1942     John Doe   1/13/2014   \n",
       "1     1XUH77887IX          M  12/16/1964   Jane Smith   1/16/2014   \n",
       "2    142XU1201IQH          M  10/14/1990   Alex Smith  10/17/2014   \n",
       "3  1XU6XUXUXU01IX          M   3/31/1980     John Doe   1/15/2013   \n",
       "4    140XU6H85IQH          M  10/14/1990   Alex Smith   3/31/2014   \n",
       "\n",
       "  Discharge Date  SEX  \n",
       "0      1/14/2014    0  \n",
       "1      1/18/2014    0  \n",
       "2      11/5/2014    0  \n",
       "3      1/18/2013    0  \n",
       "4       4/2/2014    0  "
      ]
     },
     "execution_count": 8,
     "metadata": {},
     "output_type": "execute_result"
    }
   ],
   "source": [
    "jvion_df.head()"
   ]
  },
  {
   "cell_type": "code",
   "execution_count": 13,
   "metadata": {},
   "outputs": [
    {
     "data": {
      "text/plain": [
       "claimnumber       object\n",
       "patientsex        object\n",
       "patientdob        object\n",
       "Patient Name      object\n",
       "Admit Date        object\n",
       "Discharge Date    object\n",
       "SEX                int64\n",
       "dtype: object"
      ]
     },
     "execution_count": 13,
     "metadata": {},
     "output_type": "execute_result"
    }
   ],
   "source": [
    "jvion_df.dtypes"
   ]
  },
  {
   "cell_type": "code",
   "execution_count": 20,
   "metadata": {
    "scrolled": true
   },
   "outputs": [
    {
     "ename": "TypeError",
     "evalue": "unsupported operand type(s) for /: 'str' and 'str'",
     "output_type": "error",
     "traceback": [
      "\u001b[1;31m---------------------------------------------------------------------------\u001b[0m",
      "\u001b[1;31mTypeError\u001b[0m                                 Traceback (most recent call last)",
      "\u001b[1;32m<ipython-input-20-2f55a1f1ee74>\u001b[0m in \u001b[0;36m<module>\u001b[1;34m()\u001b[0m\n\u001b[1;32m----> 1\u001b[1;33m \u001b[0mjvion_df\u001b[0m\u001b[1;33m[\u001b[0m\u001b[1;34m'patientdateofbirth'\u001b[0m\u001b[1;33m]\u001b[0m \u001b[1;33m=\u001b[0m  \u001b[0mpd\u001b[0m\u001b[1;33m.\u001b[0m\u001b[0mto_datetime\u001b[0m\u001b[1;33m(\u001b[0m\u001b[0mjvion_df\u001b[0m\u001b[1;33m[\u001b[0m\u001b[1;34m'patientdob'\u001b[0m\u001b[1;33m]\u001b[0m\u001b[1;33m,\u001b[0m \u001b[0mformat\u001b[0m\u001b[1;33m=\u001b[0m\u001b[1;34m'%-m'\u001b[0m\u001b[1;33m/\u001b[0m\u001b[1;34m'%-d'\u001b[0m\u001b[1;33m/\u001b[0m\u001b[1;34m'%Y'\u001b[0m\u001b[1;33m)\u001b[0m\u001b[1;33m\u001b[0m\u001b[0m\n\u001b[0m",
      "\u001b[1;31mTypeError\u001b[0m: unsupported operand type(s) for /: 'str' and 'str'"
     ]
    }
   ],
   "source": [
    "jvion_df['patientdateofbirth'] =  pd.to_datetime(jvion_df['patientdob'], format='%-m'/'%-d'/'%Y')"
   ]
  },
  {
   "cell_type": "code",
   "execution_count": 21,
   "metadata": {
    "collapsed": true
   },
   "outputs": [],
   "source": [
    "attack_dates = [jvion_df['patientdob']]"
   ]
  },
  {
   "cell_type": "code",
   "execution_count": 29,
   "metadata": {
    "collapsed": true
   },
   "outputs": [],
   "source": [
    "from datetime import datetime"
   ]
  },
  {
   "cell_type": "code",
   "execution_count": 30,
   "metadata": {
    "scrolled": true
   },
   "outputs": [
    {
     "ename": "TypeError",
     "evalue": "strptime() argument 1 must be str, not Series",
     "output_type": "error",
     "traceback": [
      "\u001b[1;31m---------------------------------------------------------------------------\u001b[0m",
      "\u001b[1;31mTypeError\u001b[0m                                 Traceback (most recent call last)",
      "\u001b[1;32m<ipython-input-30-e95ab02b6c02>\u001b[0m in \u001b[0;36m<module>\u001b[1;34m()\u001b[0m\n\u001b[1;32m----> 1\u001b[1;33m \u001b[0mdd\u001b[0m \u001b[1;33m=\u001b[0m \u001b[1;33m[\u001b[0m\u001b[0mdatetime\u001b[0m\u001b[1;33m.\u001b[0m\u001b[0mstrptime\u001b[0m\u001b[1;33m(\u001b[0m\u001b[0mx\u001b[0m\u001b[1;33m,\u001b[0m \u001b[1;34m'%m/%d/%Y'\u001b[0m\u001b[1;33m)\u001b[0m \u001b[1;32mfor\u001b[0m \u001b[0mx\u001b[0m \u001b[1;32min\u001b[0m \u001b[0mattack_dates\u001b[0m\u001b[1;33m]\u001b[0m\u001b[1;33m\u001b[0m\u001b[0m\n\u001b[0m\u001b[0;32m      2\u001b[0m \u001b[1;33m\u001b[0m\u001b[0m\n\u001b[0;32m      3\u001b[0m \u001b[1;33m\u001b[0m\u001b[0m\n",
      "\u001b[1;32m<ipython-input-30-e95ab02b6c02>\u001b[0m in \u001b[0;36m<listcomp>\u001b[1;34m(.0)\u001b[0m\n\u001b[1;32m----> 1\u001b[1;33m \u001b[0mdd\u001b[0m \u001b[1;33m=\u001b[0m \u001b[1;33m[\u001b[0m\u001b[0mdatetime\u001b[0m\u001b[1;33m.\u001b[0m\u001b[0mstrptime\u001b[0m\u001b[1;33m(\u001b[0m\u001b[0mx\u001b[0m\u001b[1;33m,\u001b[0m \u001b[1;34m'%m/%d/%Y'\u001b[0m\u001b[1;33m)\u001b[0m \u001b[1;32mfor\u001b[0m \u001b[0mx\u001b[0m \u001b[1;32min\u001b[0m \u001b[0mattack_dates\u001b[0m\u001b[1;33m]\u001b[0m\u001b[1;33m\u001b[0m\u001b[0m\n\u001b[0m\u001b[0;32m      2\u001b[0m \u001b[1;33m\u001b[0m\u001b[0m\n\u001b[0;32m      3\u001b[0m \u001b[1;33m\u001b[0m\u001b[0m\n",
      "\u001b[1;31mTypeError\u001b[0m: strptime() argument 1 must be str, not Series"
     ]
    }
   ],
   "source": [
    "dd = [datetime.strptime(x, '%m/%d/%Y') for x in attack_dates]\n",
    "\n",
    "    "
   ]
  },
  {
   "cell_type": "code",
   "execution_count": 36,
   "metadata": {},
   "outputs": [],
   "source": [
    "jvion_df['patientDOB']= list(map(lambda x: datetime.strptime(x,'%m/%d/%Y').strftime('%Y-%m-%d'), jvion_df['patientdob']))"
   ]
  },
  {
   "cell_type": "code",
   "execution_count": 37,
   "metadata": {},
   "outputs": [
    {
     "data": {
      "text/html": [
       "<div>\n",
       "<style>\n",
       "    .dataframe thead tr:only-child th {\n",
       "        text-align: right;\n",
       "    }\n",
       "\n",
       "    .dataframe thead th {\n",
       "        text-align: left;\n",
       "    }\n",
       "\n",
       "    .dataframe tbody tr th {\n",
       "        vertical-align: top;\n",
       "    }\n",
       "</style>\n",
       "<table border=\"1\" class=\"dataframe\">\n",
       "  <thead>\n",
       "    <tr style=\"text-align: right;\">\n",
       "      <th></th>\n",
       "      <th>claimnumber</th>\n",
       "      <th>patientsex</th>\n",
       "      <th>patientdob</th>\n",
       "      <th>Patient Name</th>\n",
       "      <th>Admit Date</th>\n",
       "      <th>Discharge Date</th>\n",
       "      <th>SEX</th>\n",
       "      <th>patientDOB</th>\n",
       "    </tr>\n",
       "  </thead>\n",
       "  <tbody>\n",
       "    <tr>\n",
       "      <th>0</th>\n",
       "      <td>1XUH54450IX</td>\n",
       "      <td>M</td>\n",
       "      <td>10/19/1942</td>\n",
       "      <td>John Doe</td>\n",
       "      <td>1/13/2014</td>\n",
       "      <td>1/14/2014</td>\n",
       "      <td>0</td>\n",
       "      <td>1942-10-19</td>\n",
       "    </tr>\n",
       "    <tr>\n",
       "      <th>1</th>\n",
       "      <td>1XUH77887IX</td>\n",
       "      <td>M</td>\n",
       "      <td>12/16/1964</td>\n",
       "      <td>Jane Smith</td>\n",
       "      <td>1/16/2014</td>\n",
       "      <td>1/18/2014</td>\n",
       "      <td>0</td>\n",
       "      <td>1964-12-16</td>\n",
       "    </tr>\n",
       "    <tr>\n",
       "      <th>2</th>\n",
       "      <td>142XU1201IQH</td>\n",
       "      <td>M</td>\n",
       "      <td>10/14/1990</td>\n",
       "      <td>Alex Smith</td>\n",
       "      <td>10/17/2014</td>\n",
       "      <td>11/5/2014</td>\n",
       "      <td>0</td>\n",
       "      <td>1990-10-14</td>\n",
       "    </tr>\n",
       "    <tr>\n",
       "      <th>3</th>\n",
       "      <td>1XU6XUXUXU01IX</td>\n",
       "      <td>M</td>\n",
       "      <td>3/31/1980</td>\n",
       "      <td>John Doe</td>\n",
       "      <td>1/15/2013</td>\n",
       "      <td>1/18/2013</td>\n",
       "      <td>0</td>\n",
       "      <td>1980-03-31</td>\n",
       "    </tr>\n",
       "    <tr>\n",
       "      <th>4</th>\n",
       "      <td>140XU6H85IQH</td>\n",
       "      <td>M</td>\n",
       "      <td>10/14/1990</td>\n",
       "      <td>Alex Smith</td>\n",
       "      <td>3/31/2014</td>\n",
       "      <td>4/2/2014</td>\n",
       "      <td>0</td>\n",
       "      <td>1990-10-14</td>\n",
       "    </tr>\n",
       "  </tbody>\n",
       "</table>\n",
       "</div>"
      ],
      "text/plain": [
       "      claimnumber patientsex  patientdob Patient Name  Admit Date  \\\n",
       "0     1XUH54450IX          M  10/19/1942     John Doe   1/13/2014   \n",
       "1     1XUH77887IX          M  12/16/1964   Jane Smith   1/16/2014   \n",
       "2    142XU1201IQH          M  10/14/1990   Alex Smith  10/17/2014   \n",
       "3  1XU6XUXUXU01IX          M   3/31/1980     John Doe   1/15/2013   \n",
       "4    140XU6H85IQH          M  10/14/1990   Alex Smith   3/31/2014   \n",
       "\n",
       "  Discharge Date  SEX  patientDOB  \n",
       "0      1/14/2014    0  1942-10-19  \n",
       "1      1/18/2014    0  1964-12-16  \n",
       "2      11/5/2014    0  1990-10-14  \n",
       "3      1/18/2013    0  1980-03-31  \n",
       "4       4/2/2014    0  1990-10-14  "
      ]
     },
     "execution_count": 37,
     "metadata": {},
     "output_type": "execute_result"
    }
   ],
   "source": [
    "jvion_df.head()"
   ]
  },
  {
   "cell_type": "code",
   "execution_count": 38,
   "metadata": {
    "collapsed": true
   },
   "outputs": [],
   "source": [
    "jvion_df['Admit_Date']= list(map(lambda x: datetime.strptime(x,'%m/%d/%Y').strftime('%Y-%m-%d'), jvion_df['Admit Date']))"
   ]
  },
  {
   "cell_type": "code",
   "execution_count": 39,
   "metadata": {},
   "outputs": [
    {
     "data": {
      "text/html": [
       "<div>\n",
       "<style>\n",
       "    .dataframe thead tr:only-child th {\n",
       "        text-align: right;\n",
       "    }\n",
       "\n",
       "    .dataframe thead th {\n",
       "        text-align: left;\n",
       "    }\n",
       "\n",
       "    .dataframe tbody tr th {\n",
       "        vertical-align: top;\n",
       "    }\n",
       "</style>\n",
       "<table border=\"1\" class=\"dataframe\">\n",
       "  <thead>\n",
       "    <tr style=\"text-align: right;\">\n",
       "      <th></th>\n",
       "      <th>claimnumber</th>\n",
       "      <th>patientsex</th>\n",
       "      <th>patientdob</th>\n",
       "      <th>Patient Name</th>\n",
       "      <th>Admit Date</th>\n",
       "      <th>Discharge Date</th>\n",
       "      <th>SEX</th>\n",
       "      <th>patientDOB</th>\n",
       "      <th>Admit_Date</th>\n",
       "    </tr>\n",
       "  </thead>\n",
       "  <tbody>\n",
       "    <tr>\n",
       "      <th>0</th>\n",
       "      <td>1XUH54450IX</td>\n",
       "      <td>M</td>\n",
       "      <td>10/19/1942</td>\n",
       "      <td>John Doe</td>\n",
       "      <td>1/13/2014</td>\n",
       "      <td>1/14/2014</td>\n",
       "      <td>0</td>\n",
       "      <td>1942-10-19</td>\n",
       "      <td>2014-01-13</td>\n",
       "    </tr>\n",
       "    <tr>\n",
       "      <th>1</th>\n",
       "      <td>1XUH77887IX</td>\n",
       "      <td>M</td>\n",
       "      <td>12/16/1964</td>\n",
       "      <td>Jane Smith</td>\n",
       "      <td>1/16/2014</td>\n",
       "      <td>1/18/2014</td>\n",
       "      <td>0</td>\n",
       "      <td>1964-12-16</td>\n",
       "      <td>2014-01-16</td>\n",
       "    </tr>\n",
       "    <tr>\n",
       "      <th>2</th>\n",
       "      <td>142XU1201IQH</td>\n",
       "      <td>M</td>\n",
       "      <td>10/14/1990</td>\n",
       "      <td>Alex Smith</td>\n",
       "      <td>10/17/2014</td>\n",
       "      <td>11/5/2014</td>\n",
       "      <td>0</td>\n",
       "      <td>1990-10-14</td>\n",
       "      <td>2014-10-17</td>\n",
       "    </tr>\n",
       "    <tr>\n",
       "      <th>3</th>\n",
       "      <td>1XU6XUXUXU01IX</td>\n",
       "      <td>M</td>\n",
       "      <td>3/31/1980</td>\n",
       "      <td>John Doe</td>\n",
       "      <td>1/15/2013</td>\n",
       "      <td>1/18/2013</td>\n",
       "      <td>0</td>\n",
       "      <td>1980-03-31</td>\n",
       "      <td>2013-01-15</td>\n",
       "    </tr>\n",
       "    <tr>\n",
       "      <th>4</th>\n",
       "      <td>140XU6H85IQH</td>\n",
       "      <td>M</td>\n",
       "      <td>10/14/1990</td>\n",
       "      <td>Alex Smith</td>\n",
       "      <td>3/31/2014</td>\n",
       "      <td>4/2/2014</td>\n",
       "      <td>0</td>\n",
       "      <td>1990-10-14</td>\n",
       "      <td>2014-03-31</td>\n",
       "    </tr>\n",
       "  </tbody>\n",
       "</table>\n",
       "</div>"
      ],
      "text/plain": [
       "      claimnumber patientsex  patientdob Patient Name  Admit Date  \\\n",
       "0     1XUH54450IX          M  10/19/1942     John Doe   1/13/2014   \n",
       "1     1XUH77887IX          M  12/16/1964   Jane Smith   1/16/2014   \n",
       "2    142XU1201IQH          M  10/14/1990   Alex Smith  10/17/2014   \n",
       "3  1XU6XUXUXU01IX          M   3/31/1980     John Doe   1/15/2013   \n",
       "4    140XU6H85IQH          M  10/14/1990   Alex Smith   3/31/2014   \n",
       "\n",
       "  Discharge Date  SEX  patientDOB  Admit_Date  \n",
       "0      1/14/2014    0  1942-10-19  2014-01-13  \n",
       "1      1/18/2014    0  1964-12-16  2014-01-16  \n",
       "2      11/5/2014    0  1990-10-14  2014-10-17  \n",
       "3      1/18/2013    0  1980-03-31  2013-01-15  \n",
       "4       4/2/2014    0  1990-10-14  2014-03-31  "
      ]
     },
     "execution_count": 39,
     "metadata": {},
     "output_type": "execute_result"
    }
   ],
   "source": [
    "jvion_df.head()"
   ]
  },
  {
   "cell_type": "code",
   "execution_count": 47,
   "metadata": {},
   "outputs": [],
   "source": [
    "jvion_df['Discharge_Date'] = list(map(lambda x: datetime.strptime(x,'%m/%d/%Y').strftime('%Y-%m-%d'), jvion_df['Discharge Date']))"
   ]
  },
  {
   "cell_type": "code",
   "execution_count": 66,
   "metadata": {},
   "outputs": [],
   "source": [
    "jvion_df_dates = jvion_df.drop(['patientdob', 'Admit Date', 'Discharge Date'], axis = 1)"
   ]
  },
  {
   "cell_type": "code",
   "execution_count": 68,
   "metadata": {},
   "outputs": [
    {
     "data": {
      "text/html": [
       "<div>\n",
       "<style>\n",
       "    .dataframe thead tr:only-child th {\n",
       "        text-align: right;\n",
       "    }\n",
       "\n",
       "    .dataframe thead th {\n",
       "        text-align: left;\n",
       "    }\n",
       "\n",
       "    .dataframe tbody tr th {\n",
       "        vertical-align: top;\n",
       "    }\n",
       "</style>\n",
       "<table border=\"1\" class=\"dataframe\">\n",
       "  <thead>\n",
       "    <tr style=\"text-align: right;\">\n",
       "      <th></th>\n",
       "      <th>claimnumber</th>\n",
       "      <th>patientsex</th>\n",
       "      <th>Patient Name</th>\n",
       "      <th>SEX</th>\n",
       "      <th>patientDOB</th>\n",
       "      <th>Admit_Date</th>\n",
       "      <th>Discharge_Date</th>\n",
       "    </tr>\n",
       "  </thead>\n",
       "  <tbody>\n",
       "    <tr>\n",
       "      <th>0</th>\n",
       "      <td>1XUH54450IX</td>\n",
       "      <td>M</td>\n",
       "      <td>John Doe</td>\n",
       "      <td>0</td>\n",
       "      <td>1942-10-19</td>\n",
       "      <td>2014-01-13</td>\n",
       "      <td>2014-01-14</td>\n",
       "    </tr>\n",
       "    <tr>\n",
       "      <th>1</th>\n",
       "      <td>1XUH77887IX</td>\n",
       "      <td>M</td>\n",
       "      <td>Jane Smith</td>\n",
       "      <td>0</td>\n",
       "      <td>1964-12-16</td>\n",
       "      <td>2014-01-16</td>\n",
       "      <td>2014-01-18</td>\n",
       "    </tr>\n",
       "    <tr>\n",
       "      <th>2</th>\n",
       "      <td>142XU1201IQH</td>\n",
       "      <td>M</td>\n",
       "      <td>Alex Smith</td>\n",
       "      <td>0</td>\n",
       "      <td>1990-10-14</td>\n",
       "      <td>2014-10-17</td>\n",
       "      <td>2014-11-05</td>\n",
       "    </tr>\n",
       "    <tr>\n",
       "      <th>3</th>\n",
       "      <td>1XU6XUXUXU01IX</td>\n",
       "      <td>M</td>\n",
       "      <td>John Doe</td>\n",
       "      <td>0</td>\n",
       "      <td>1980-03-31</td>\n",
       "      <td>2013-01-15</td>\n",
       "      <td>2013-01-18</td>\n",
       "    </tr>\n",
       "    <tr>\n",
       "      <th>4</th>\n",
       "      <td>140XU6H85IQH</td>\n",
       "      <td>M</td>\n",
       "      <td>Alex Smith</td>\n",
       "      <td>0</td>\n",
       "      <td>1990-10-14</td>\n",
       "      <td>2014-03-31</td>\n",
       "      <td>2014-04-02</td>\n",
       "    </tr>\n",
       "  </tbody>\n",
       "</table>\n",
       "</div>"
      ],
      "text/plain": [
       "      claimnumber patientsex Patient Name  SEX  patientDOB  Admit_Date  \\\n",
       "0     1XUH54450IX          M     John Doe    0  1942-10-19  2014-01-13   \n",
       "1     1XUH77887IX          M   Jane Smith    0  1964-12-16  2014-01-16   \n",
       "2    142XU1201IQH          M   Alex Smith    0  1990-10-14  2014-10-17   \n",
       "3  1XU6XUXUXU01IX          M     John Doe    0  1980-03-31  2013-01-15   \n",
       "4    140XU6H85IQH          M   Alex Smith    0  1990-10-14  2014-03-31   \n",
       "\n",
       "  Discharge_Date  \n",
       "0     2014-01-14  \n",
       "1     2014-01-18  \n",
       "2     2014-11-05  \n",
       "3     2013-01-18  \n",
       "4     2014-04-02  "
      ]
     },
     "execution_count": 68,
     "metadata": {},
     "output_type": "execute_result"
    }
   ],
   "source": [
    "jvion_df_dates.head()"
   ]
  },
  {
   "cell_type": "code",
   "execution_count": 69,
   "metadata": {},
   "outputs": [
    {
     "data": {
      "text/plain": [
       "claimnumber       object\n",
       "patientsex        object\n",
       "Patient Name      object\n",
       "SEX                int64\n",
       "patientDOB        object\n",
       "Admit_Date        object\n",
       "Discharge_Date    object\n",
       "dtype: object"
      ]
     },
     "execution_count": 69,
     "metadata": {},
     "output_type": "execute_result"
    }
   ],
   "source": [
    "jvion_df_dates.dtypes"
   ]
  },
  {
   "cell_type": "code",
   "execution_count": 70,
   "metadata": {
    "scrolled": true
   },
   "outputs": [],
   "source": [
    "jvion_df_dates['Discharge_Date']= pd.to_datetime(jvion_df_dates['Discharge_Date'])"
   ]
  },
  {
   "cell_type": "code",
   "execution_count": 71,
   "metadata": {},
   "outputs": [],
   "source": [
    "jvion_df_dates['Admit_Date']= pd.to_datetime(jvion_df_dates['Admit_Date'])"
   ]
  },
  {
   "cell_type": "code",
   "execution_count": 72,
   "metadata": {},
   "outputs": [],
   "source": [
    "jvion_df_dates['patientDOB']= pd.to_datetime(jvion_df_dates['patientDOB'])"
   ]
  },
  {
   "cell_type": "code",
   "execution_count": 73,
   "metadata": {},
   "outputs": [
    {
     "data": {
      "text/plain": [
       "claimnumber               object\n",
       "patientsex                object\n",
       "Patient Name              object\n",
       "SEX                        int64\n",
       "patientDOB        datetime64[ns]\n",
       "Admit_Date        datetime64[ns]\n",
       "Discharge_Date    datetime64[ns]\n",
       "dtype: object"
      ]
     },
     "execution_count": 73,
     "metadata": {},
     "output_type": "execute_result"
    }
   ],
   "source": [
    "jvion_df_dates.dtypes"
   ]
  },
  {
   "cell_type": "code",
   "execution_count": 74,
   "metadata": {},
   "outputs": [],
   "source": [
    "jvion_df_dates['LengthOfStay'] = jvion_df_dates['Discharge_Date'] - jvion_df_dates['Admit_Date']"
   ]
  },
  {
   "cell_type": "code",
   "execution_count": 76,
   "metadata": {},
   "outputs": [
    {
     "data": {
      "text/html": [
       "<div>\n",
       "<style>\n",
       "    .dataframe thead tr:only-child th {\n",
       "        text-align: right;\n",
       "    }\n",
       "\n",
       "    .dataframe thead th {\n",
       "        text-align: left;\n",
       "    }\n",
       "\n",
       "    .dataframe tbody tr th {\n",
       "        vertical-align: top;\n",
       "    }\n",
       "</style>\n",
       "<table border=\"1\" class=\"dataframe\">\n",
       "  <thead>\n",
       "    <tr style=\"text-align: right;\">\n",
       "      <th></th>\n",
       "      <th>claimnumber</th>\n",
       "      <th>patientsex</th>\n",
       "      <th>Patient Name</th>\n",
       "      <th>SEX</th>\n",
       "      <th>patientDOB</th>\n",
       "      <th>Admit_Date</th>\n",
       "      <th>Discharge_Date</th>\n",
       "      <th>LengthOfStay</th>\n",
       "    </tr>\n",
       "  </thead>\n",
       "  <tbody>\n",
       "    <tr>\n",
       "      <th>0</th>\n",
       "      <td>1XUH54450IX</td>\n",
       "      <td>M</td>\n",
       "      <td>John Doe</td>\n",
       "      <td>0</td>\n",
       "      <td>1942-10-19</td>\n",
       "      <td>2014-01-13</td>\n",
       "      <td>2014-01-14</td>\n",
       "      <td>1 days</td>\n",
       "    </tr>\n",
       "    <tr>\n",
       "      <th>1</th>\n",
       "      <td>1XUH77887IX</td>\n",
       "      <td>M</td>\n",
       "      <td>Jane Smith</td>\n",
       "      <td>0</td>\n",
       "      <td>1964-12-16</td>\n",
       "      <td>2014-01-16</td>\n",
       "      <td>2014-01-18</td>\n",
       "      <td>2 days</td>\n",
       "    </tr>\n",
       "    <tr>\n",
       "      <th>2</th>\n",
       "      <td>142XU1201IQH</td>\n",
       "      <td>M</td>\n",
       "      <td>Alex Smith</td>\n",
       "      <td>0</td>\n",
       "      <td>1990-10-14</td>\n",
       "      <td>2014-10-17</td>\n",
       "      <td>2014-11-05</td>\n",
       "      <td>19 days</td>\n",
       "    </tr>\n",
       "    <tr>\n",
       "      <th>3</th>\n",
       "      <td>1XU6XUXUXU01IX</td>\n",
       "      <td>M</td>\n",
       "      <td>John Doe</td>\n",
       "      <td>0</td>\n",
       "      <td>1980-03-31</td>\n",
       "      <td>2013-01-15</td>\n",
       "      <td>2013-01-18</td>\n",
       "      <td>3 days</td>\n",
       "    </tr>\n",
       "    <tr>\n",
       "      <th>4</th>\n",
       "      <td>140XU6H85IQH</td>\n",
       "      <td>M</td>\n",
       "      <td>Alex Smith</td>\n",
       "      <td>0</td>\n",
       "      <td>1990-10-14</td>\n",
       "      <td>2014-03-31</td>\n",
       "      <td>2014-04-02</td>\n",
       "      <td>2 days</td>\n",
       "    </tr>\n",
       "  </tbody>\n",
       "</table>\n",
       "</div>"
      ],
      "text/plain": [
       "      claimnumber patientsex Patient Name  SEX patientDOB Admit_Date  \\\n",
       "0     1XUH54450IX          M     John Doe    0 1942-10-19 2014-01-13   \n",
       "1     1XUH77887IX          M   Jane Smith    0 1964-12-16 2014-01-16   \n",
       "2    142XU1201IQH          M   Alex Smith    0 1990-10-14 2014-10-17   \n",
       "3  1XU6XUXUXU01IX          M     John Doe    0 1980-03-31 2013-01-15   \n",
       "4    140XU6H85IQH          M   Alex Smith    0 1990-10-14 2014-03-31   \n",
       "\n",
       "  Discharge_Date LengthOfStay  \n",
       "0     2014-01-14       1 days  \n",
       "1     2014-01-18       2 days  \n",
       "2     2014-11-05      19 days  \n",
       "3     2013-01-18       3 days  \n",
       "4     2014-04-02       2 days  "
      ]
     },
     "execution_count": 76,
     "metadata": {},
     "output_type": "execute_result"
    }
   ],
   "source": [
    "jvion_df_dates.head()"
   ]
  },
  {
   "cell_type": "code",
   "execution_count": 85,
   "metadata": {
    "scrolled": true
   },
   "outputs": [],
   "source": [
    "jvion_df_dates['patientDOyear'] = pd.DatetimeIndex(jvion_df_dates['patientDOB']).year  "
   ]
  },
  {
   "cell_type": "code",
   "execution_count": 94,
   "metadata": {
    "collapsed": true
   },
   "outputs": [],
   "source": [
    "jvion_df_dates['month_of_admission']  = pd.DatetimeIndex(jvion_df_dates['Admit_Date']).month  "
   ]
  },
  {
   "cell_type": "code",
   "execution_count": 95,
   "metadata": {},
   "outputs": [
    {
     "data": {
      "text/plain": [
       "claimnumber                    object\n",
       "patientsex                     object\n",
       "Patient Name                   object\n",
       "SEX                             int64\n",
       "patientDOB             datetime64[ns]\n",
       "Admit_Date             datetime64[ns]\n",
       "Discharge_Date         datetime64[ns]\n",
       "LengthOfStay          timedelta64[ns]\n",
       "patient_age                     int64\n",
       "month_of_admission              int64\n",
       "dtype: object"
      ]
     },
     "execution_count": 95,
     "metadata": {},
     "output_type": "execute_result"
    }
   ],
   "source": [
    "jvion_df_dates.dtypes"
   ]
  },
  {
   "cell_type": "code",
   "execution_count": 96,
   "metadata": {},
   "outputs": [
    {
     "data": {
      "text/html": [
       "<div>\n",
       "<style>\n",
       "    .dataframe thead tr:only-child th {\n",
       "        text-align: right;\n",
       "    }\n",
       "\n",
       "    .dataframe thead th {\n",
       "        text-align: left;\n",
       "    }\n",
       "\n",
       "    .dataframe tbody tr th {\n",
       "        vertical-align: top;\n",
       "    }\n",
       "</style>\n",
       "<table border=\"1\" class=\"dataframe\">\n",
       "  <thead>\n",
       "    <tr style=\"text-align: right;\">\n",
       "      <th></th>\n",
       "      <th>claimnumber</th>\n",
       "      <th>patientsex</th>\n",
       "      <th>Patient Name</th>\n",
       "      <th>SEX</th>\n",
       "      <th>patientDOB</th>\n",
       "      <th>Admit_Date</th>\n",
       "      <th>Discharge_Date</th>\n",
       "      <th>LengthOfStay</th>\n",
       "      <th>patient_age</th>\n",
       "      <th>month_of_admission</th>\n",
       "    </tr>\n",
       "  </thead>\n",
       "  <tbody>\n",
       "    <tr>\n",
       "      <th>0</th>\n",
       "      <td>1XUH54450IX</td>\n",
       "      <td>M</td>\n",
       "      <td>John Doe</td>\n",
       "      <td>0</td>\n",
       "      <td>1942-10-19</td>\n",
       "      <td>2014-01-13</td>\n",
       "      <td>2014-01-14</td>\n",
       "      <td>1 days</td>\n",
       "      <td>76</td>\n",
       "      <td>1</td>\n",
       "    </tr>\n",
       "    <tr>\n",
       "      <th>1</th>\n",
       "      <td>1XUH77887IX</td>\n",
       "      <td>M</td>\n",
       "      <td>Jane Smith</td>\n",
       "      <td>0</td>\n",
       "      <td>1964-12-16</td>\n",
       "      <td>2014-01-16</td>\n",
       "      <td>2014-01-18</td>\n",
       "      <td>2 days</td>\n",
       "      <td>54</td>\n",
       "      <td>1</td>\n",
       "    </tr>\n",
       "    <tr>\n",
       "      <th>2</th>\n",
       "      <td>142XU1201IQH</td>\n",
       "      <td>M</td>\n",
       "      <td>Alex Smith</td>\n",
       "      <td>0</td>\n",
       "      <td>1990-10-14</td>\n",
       "      <td>2014-10-17</td>\n",
       "      <td>2014-11-05</td>\n",
       "      <td>19 days</td>\n",
       "      <td>28</td>\n",
       "      <td>10</td>\n",
       "    </tr>\n",
       "    <tr>\n",
       "      <th>3</th>\n",
       "      <td>1XU6XUXUXU01IX</td>\n",
       "      <td>M</td>\n",
       "      <td>John Doe</td>\n",
       "      <td>0</td>\n",
       "      <td>1980-03-31</td>\n",
       "      <td>2013-01-15</td>\n",
       "      <td>2013-01-18</td>\n",
       "      <td>3 days</td>\n",
       "      <td>38</td>\n",
       "      <td>1</td>\n",
       "    </tr>\n",
       "    <tr>\n",
       "      <th>4</th>\n",
       "      <td>140XU6H85IQH</td>\n",
       "      <td>M</td>\n",
       "      <td>Alex Smith</td>\n",
       "      <td>0</td>\n",
       "      <td>1990-10-14</td>\n",
       "      <td>2014-03-31</td>\n",
       "      <td>2014-04-02</td>\n",
       "      <td>2 days</td>\n",
       "      <td>28</td>\n",
       "      <td>3</td>\n",
       "    </tr>\n",
       "  </tbody>\n",
       "</table>\n",
       "</div>"
      ],
      "text/plain": [
       "      claimnumber patientsex Patient Name  SEX patientDOB Admit_Date  \\\n",
       "0     1XUH54450IX          M     John Doe    0 1942-10-19 2014-01-13   \n",
       "1     1XUH77887IX          M   Jane Smith    0 1964-12-16 2014-01-16   \n",
       "2    142XU1201IQH          M   Alex Smith    0 1990-10-14 2014-10-17   \n",
       "3  1XU6XUXUXU01IX          M     John Doe    0 1980-03-31 2013-01-15   \n",
       "4    140XU6H85IQH          M   Alex Smith    0 1990-10-14 2014-03-31   \n",
       "\n",
       "  Discharge_Date LengthOfStay  patient_age  month_of_admission  \n",
       "0     2014-01-14       1 days           76                   1  \n",
       "1     2014-01-18       2 days           54                   1  \n",
       "2     2014-11-05      19 days           28                  10  \n",
       "3     2013-01-18       3 days           38                   1  \n",
       "4     2014-04-02       2 days           28                   3  "
      ]
     },
     "execution_count": 96,
     "metadata": {},
     "output_type": "execute_result"
    }
   ],
   "source": [
    "jvion_df_dates.head()"
   ]
  },
  {
   "cell_type": "markdown",
   "metadata": {},
   "source": [
    "jvion_df_dates['patient_age'] = 2018 - jvion_df_dates['patientDOyear']"
   ]
  },
  {
   "cell_type": "code",
   "execution_count": 98,
   "metadata": {},
   "outputs": [
    {
     "data": {
      "text/html": [
       "<div>\n",
       "<style>\n",
       "    .dataframe thead tr:only-child th {\n",
       "        text-align: right;\n",
       "    }\n",
       "\n",
       "    .dataframe thead th {\n",
       "        text-align: left;\n",
       "    }\n",
       "\n",
       "    .dataframe tbody tr th {\n",
       "        vertical-align: top;\n",
       "    }\n",
       "</style>\n",
       "<table border=\"1\" class=\"dataframe\">\n",
       "  <thead>\n",
       "    <tr style=\"text-align: right;\">\n",
       "      <th></th>\n",
       "      <th>claimnumber</th>\n",
       "      <th>patientsex</th>\n",
       "      <th>Patient Name</th>\n",
       "      <th>SEX</th>\n",
       "      <th>patientDOB</th>\n",
       "      <th>Admit_Date</th>\n",
       "      <th>Discharge_Date</th>\n",
       "      <th>LengthOfStay</th>\n",
       "      <th>patient_age</th>\n",
       "      <th>month_of_admission</th>\n",
       "    </tr>\n",
       "  </thead>\n",
       "  <tbody>\n",
       "    <tr>\n",
       "      <th>0</th>\n",
       "      <td>1XUH54450IX</td>\n",
       "      <td>M</td>\n",
       "      <td>John Doe</td>\n",
       "      <td>0</td>\n",
       "      <td>1942-10-19</td>\n",
       "      <td>2014-01-13</td>\n",
       "      <td>2014-01-14</td>\n",
       "      <td>1 days</td>\n",
       "      <td>76</td>\n",
       "      <td>1</td>\n",
       "    </tr>\n",
       "    <tr>\n",
       "      <th>1</th>\n",
       "      <td>1XUH77887IX</td>\n",
       "      <td>M</td>\n",
       "      <td>Jane Smith</td>\n",
       "      <td>0</td>\n",
       "      <td>1964-12-16</td>\n",
       "      <td>2014-01-16</td>\n",
       "      <td>2014-01-18</td>\n",
       "      <td>2 days</td>\n",
       "      <td>54</td>\n",
       "      <td>1</td>\n",
       "    </tr>\n",
       "    <tr>\n",
       "      <th>2</th>\n",
       "      <td>142XU1201IQH</td>\n",
       "      <td>M</td>\n",
       "      <td>Alex Smith</td>\n",
       "      <td>0</td>\n",
       "      <td>1990-10-14</td>\n",
       "      <td>2014-10-17</td>\n",
       "      <td>2014-11-05</td>\n",
       "      <td>19 days</td>\n",
       "      <td>28</td>\n",
       "      <td>10</td>\n",
       "    </tr>\n",
       "    <tr>\n",
       "      <th>3</th>\n",
       "      <td>1XU6XUXUXU01IX</td>\n",
       "      <td>M</td>\n",
       "      <td>John Doe</td>\n",
       "      <td>0</td>\n",
       "      <td>1980-03-31</td>\n",
       "      <td>2013-01-15</td>\n",
       "      <td>2013-01-18</td>\n",
       "      <td>3 days</td>\n",
       "      <td>38</td>\n",
       "      <td>1</td>\n",
       "    </tr>\n",
       "    <tr>\n",
       "      <th>4</th>\n",
       "      <td>140XU6H85IQH</td>\n",
       "      <td>M</td>\n",
       "      <td>Alex Smith</td>\n",
       "      <td>0</td>\n",
       "      <td>1990-10-14</td>\n",
       "      <td>2014-03-31</td>\n",
       "      <td>2014-04-02</td>\n",
       "      <td>2 days</td>\n",
       "      <td>28</td>\n",
       "      <td>3</td>\n",
       "    </tr>\n",
       "  </tbody>\n",
       "</table>\n",
       "</div>"
      ],
      "text/plain": [
       "      claimnumber patientsex Patient Name  SEX patientDOB Admit_Date  \\\n",
       "0     1XUH54450IX          M     John Doe    0 1942-10-19 2014-01-13   \n",
       "1     1XUH77887IX          M   Jane Smith    0 1964-12-16 2014-01-16   \n",
       "2    142XU1201IQH          M   Alex Smith    0 1990-10-14 2014-10-17   \n",
       "3  1XU6XUXUXU01IX          M     John Doe    0 1980-03-31 2013-01-15   \n",
       "4    140XU6H85IQH          M   Alex Smith    0 1990-10-14 2014-03-31   \n",
       "\n",
       "  Discharge_Date LengthOfStay  patient_age  month_of_admission  \n",
       "0     2014-01-14       1 days           76                   1  \n",
       "1     2014-01-18       2 days           54                   1  \n",
       "2     2014-11-05      19 days           28                  10  \n",
       "3     2013-01-18       3 days           38                   1  \n",
       "4     2014-04-02       2 days           28                   3  "
      ]
     },
     "execution_count": 98,
     "metadata": {},
     "output_type": "execute_result"
    }
   ],
   "source": [
    "jvion_df_dates.head()"
   ]
  },
  {
   "cell_type": "code",
   "execution_count": 92,
   "metadata": {},
   "outputs": [],
   "source": [
    "jvion_df_dates = jvion_df_dates.drop(['patientDOyear'], axis = 1)"
   ]
  },
  {
   "cell_type": "code",
   "execution_count": 99,
   "metadata": {},
   "outputs": [
    {
     "data": {
      "text/html": [
       "<div>\n",
       "<style>\n",
       "    .dataframe thead tr:only-child th {\n",
       "        text-align: right;\n",
       "    }\n",
       "\n",
       "    .dataframe thead th {\n",
       "        text-align: left;\n",
       "    }\n",
       "\n",
       "    .dataframe tbody tr th {\n",
       "        vertical-align: top;\n",
       "    }\n",
       "</style>\n",
       "<table border=\"1\" class=\"dataframe\">\n",
       "  <thead>\n",
       "    <tr style=\"text-align: right;\">\n",
       "      <th></th>\n",
       "      <th>claimnumber</th>\n",
       "      <th>patientsex</th>\n",
       "      <th>Patient Name</th>\n",
       "      <th>SEX</th>\n",
       "      <th>patientDOB</th>\n",
       "      <th>Admit_Date</th>\n",
       "      <th>Discharge_Date</th>\n",
       "      <th>LengthOfStay</th>\n",
       "      <th>patient_age</th>\n",
       "      <th>month_of_admission</th>\n",
       "    </tr>\n",
       "  </thead>\n",
       "  <tbody>\n",
       "    <tr>\n",
       "      <th>0</th>\n",
       "      <td>1XUH54450IX</td>\n",
       "      <td>M</td>\n",
       "      <td>John Doe</td>\n",
       "      <td>0</td>\n",
       "      <td>1942-10-19</td>\n",
       "      <td>2014-01-13</td>\n",
       "      <td>2014-01-14</td>\n",
       "      <td>1 days</td>\n",
       "      <td>76</td>\n",
       "      <td>1</td>\n",
       "    </tr>\n",
       "    <tr>\n",
       "      <th>1</th>\n",
       "      <td>1XUH77887IX</td>\n",
       "      <td>M</td>\n",
       "      <td>Jane Smith</td>\n",
       "      <td>0</td>\n",
       "      <td>1964-12-16</td>\n",
       "      <td>2014-01-16</td>\n",
       "      <td>2014-01-18</td>\n",
       "      <td>2 days</td>\n",
       "      <td>54</td>\n",
       "      <td>1</td>\n",
       "    </tr>\n",
       "    <tr>\n",
       "      <th>2</th>\n",
       "      <td>142XU1201IQH</td>\n",
       "      <td>M</td>\n",
       "      <td>Alex Smith</td>\n",
       "      <td>0</td>\n",
       "      <td>1990-10-14</td>\n",
       "      <td>2014-10-17</td>\n",
       "      <td>2014-11-05</td>\n",
       "      <td>19 days</td>\n",
       "      <td>28</td>\n",
       "      <td>10</td>\n",
       "    </tr>\n",
       "    <tr>\n",
       "      <th>3</th>\n",
       "      <td>1XU6XUXUXU01IX</td>\n",
       "      <td>M</td>\n",
       "      <td>John Doe</td>\n",
       "      <td>0</td>\n",
       "      <td>1980-03-31</td>\n",
       "      <td>2013-01-15</td>\n",
       "      <td>2013-01-18</td>\n",
       "      <td>3 days</td>\n",
       "      <td>38</td>\n",
       "      <td>1</td>\n",
       "    </tr>\n",
       "    <tr>\n",
       "      <th>4</th>\n",
       "      <td>140XU6H85IQH</td>\n",
       "      <td>M</td>\n",
       "      <td>Alex Smith</td>\n",
       "      <td>0</td>\n",
       "      <td>1990-10-14</td>\n",
       "      <td>2014-03-31</td>\n",
       "      <td>2014-04-02</td>\n",
       "      <td>2 days</td>\n",
       "      <td>28</td>\n",
       "      <td>3</td>\n",
       "    </tr>\n",
       "  </tbody>\n",
       "</table>\n",
       "</div>"
      ],
      "text/plain": [
       "      claimnumber patientsex Patient Name  SEX patientDOB Admit_Date  \\\n",
       "0     1XUH54450IX          M     John Doe    0 1942-10-19 2014-01-13   \n",
       "1     1XUH77887IX          M   Jane Smith    0 1964-12-16 2014-01-16   \n",
       "2    142XU1201IQH          M   Alex Smith    0 1990-10-14 2014-10-17   \n",
       "3  1XU6XUXUXU01IX          M     John Doe    0 1980-03-31 2013-01-15   \n",
       "4    140XU6H85IQH          M   Alex Smith    0 1990-10-14 2014-03-31   \n",
       "\n",
       "  Discharge_Date LengthOfStay  patient_age  month_of_admission  \n",
       "0     2014-01-14       1 days           76                   1  \n",
       "1     2014-01-18       2 days           54                   1  \n",
       "2     2014-11-05      19 days           28                  10  \n",
       "3     2013-01-18       3 days           38                   1  \n",
       "4     2014-04-02       2 days           28                   3  "
      ]
     },
     "execution_count": 99,
     "metadata": {},
     "output_type": "execute_result"
    }
   ],
   "source": [
    "jvion_df_dates.head()"
   ]
  },
  {
   "cell_type": "code",
   "execution_count": 100,
   "metadata": {
    "collapsed": true
   },
   "outputs": [],
   "source": [
    "import numpy as np\n",
    "import matplotlib.pyplot as plt\n",
    "import seaborn as sns\n",
    "%matplotlib inline"
   ]
  },
  {
   "cell_type": "markdown",
   "metadata": {},
   "source": [
    "# Admissions based on Gender"
   ]
  },
  {
   "cell_type": "code",
   "execution_count": 102,
   "metadata": {},
   "outputs": [
    {
     "data": {
      "text/plain": [
       "<seaborn.axisgrid.FacetGrid at 0x26c75755b38>"
      ]
     },
     "execution_count": 102,
     "metadata": {},
     "output_type": "execute_result"
    },
    {
     "data": {
      "image/png": "[encoded data removed]",
      "text/plain": [
       "<matplotlib.figure.Figure at 0x26c7814c940>"
      ]
     },
     "metadata": {},
     "output_type": "display_data"
    }
   ],
   "source": [
    "sns.factorplot(\"patientsex\",data=jvion_df_dates, kind = \"count\")"
   ]
  },
  {
   "cell_type": "markdown",
   "metadata": {},
   "source": [
    "We can see that there are more female patients as compared to male patients getting admitted"
   ]
  },
  {
   "cell_type": "markdown",
   "metadata": {},
   "source": [
    "# Age Range of patients getting admitted"
   ]
  },
  {
   "cell_type": "code",
   "execution_count": 104,
   "metadata": {},
   "outputs": [
    {
     "data": {
      "text/plain": [
       "<matplotlib.axes._subplots.AxesSubplot at 0x26c77fa2e48>"
      ]
     },
     "execution_count": 104,
     "metadata": {},
     "output_type": "execute_result"
    },
    {
     "data": {
      "image/png": "[encoded data removed]",
      "text/plain": [
       "<matplotlib.figure.Figure at 0x26c78151e48>"
      ]
     },
     "metadata": {},
     "output_type": "display_data"
    }
   ],
   "source": [
    "jvion_df_dates['patient_age'].hist()"
   ]
  },
  {
   "cell_type": "markdown",
   "metadata": {},
   "source": [
    "Here we can see that the admissions are the highest amongst the age bracket 32-35 and 52-57"
   ]
  },
  {
   "cell_type": "code",
   "execution_count": 110,
   "metadata": {
    "collapsed": true
   },
   "outputs": [],
   "source": [
    "import plotly.plotly as py"
   ]
  },
  {
   "cell_type": "code",
   "execution_count": 111,
   "metadata": {
    "collapsed": true
   },
   "outputs": [],
   "source": [
    "data = jvion_df_dates['month_of_admission']"
   ]
  },
  {
   "cell_type": "markdown",
   "metadata": {},
   "source": [
    "# Month vs Admission Rate"
   ]
  },
  {
   "attachments": {
    "image.png": {
     "image/png": "[encoded data removed]"
    }
   },
   "cell_type": "markdown",
   "metadata": {},
   "source": [
    "![image.png](attachment:image.png)"
   ]
  },
  {
   "cell_type": "markdown",
   "metadata": {},
   "source": [
    "We can see here that the month of February and June have the Highest admission rate"
   ]
  },
  {
   "cell_type": "markdown",
   "metadata": {},
   "source": [
    "# How Does Age relate to the length of Stay?"
   ]
  },
  {
   "cell_type": "code",
   "execution_count": 121,
   "metadata": {},
   "outputs": [
    {
     "data": {
      "text/plain": [
       "claimnumber                    object\n",
       "patientsex                     object\n",
       "Patient Name                   object\n",
       "SEX                             int64\n",
       "patientDOB             datetime64[ns]\n",
       "Admit_Date             datetime64[ns]\n",
       "Discharge_Date         datetime64[ns]\n",
       "LengthOfStay          timedelta64[ns]\n",
       "patient_age                     int64\n",
       "month_of_admission              int64\n",
       "dtype: object"
      ]
     },
     "execution_count": 121,
     "metadata": {},
     "output_type": "execute_result"
    }
   ],
   "source": [
    "jvion_df_dates.dtypes"
   ]
  },
  {
   "cell_type": "code",
   "execution_count": 122,
   "metadata": {
    "collapsed": true
   },
   "outputs": [],
   "source": [
    "jvion_df_dates['LengthOfStay']= pd.to_numeric(jvion_df_dates['LengthOfStay'])"
   ]
  },
  {
   "cell_type": "code",
   "execution_count": 123,
   "metadata": {},
   "outputs": [
    {
     "data": {
      "text/plain": [
       "claimnumber                   object\n",
       "patientsex                    object\n",
       "Patient Name                  object\n",
       "SEX                            int64\n",
       "patientDOB            datetime64[ns]\n",
       "Admit_Date            datetime64[ns]\n",
       "Discharge_Date        datetime64[ns]\n",
       "LengthOfStay                   int64\n",
       "patient_age                    int64\n",
       "month_of_admission             int64\n",
       "dtype: object"
      ]
     },
     "execution_count": 123,
     "metadata": {},
     "output_type": "execute_result"
    }
   ],
   "source": [
    "jvion_df_dates.dtypes"
   ]
  },
  {
   "cell_type": "code",
   "execution_count": 124,
   "metadata": {},
   "outputs": [
    {
     "data": {
      "text/plain": [
       "<matplotlib.axes._subplots.AxesSubplot at 0x26c7df28748>"
      ]
     },
     "execution_count": 124,
     "metadata": {},
     "output_type": "execute_result"
    },
    {
     "data": {
      "image/png": "[encoded data removed]",
      "text/plain": [
       "<matplotlib.figure.Figure at 0x26c7dd3b8d0>"
      ]
     },
     "metadata": {},
     "output_type": "display_data"
    }
   ],
   "source": [
    "sns.regplot(x=\"patient_age\", y=\"LengthOfStay\", data=jvion_df_dates)"
   ]
  },
  {
   "cell_type": "code",
   "execution_count": 125,
   "metadata": {
    "collapsed": true
   },
   "outputs": [],
   "source": [
    "from scipy import stats\n",
    "import numpy as np\n",
    "x = jvion_df_dates['patient_age']\n",
    "y = jvion_df_dates['LengthOfStay']\n",
    "slope, intercept, r_value, p_value, std_err = stats.linregress(x,y)"
   ]
  },
  {
   "cell_type": "code",
   "execution_count": 126,
   "metadata": {},
   "outputs": [
    {
     "name": "stdout",
     "output_type": "stream",
     "text": [
      "r-squared: 0.00529862200194\n"
     ]
    }
   ],
   "source": [
    "print (\"r-squared:\", r_value**2)"
   ]
  },
  {
   "cell_type": "code",
   "execution_count": 127,
   "metadata": {},
   "outputs": [
    {
     "name": "stdout",
     "output_type": "stream",
     "text": [
      "p_value: 0.170556415099\n"
     ]
    }
   ],
   "source": [
    "print (\"p_value:\", p_value)"
   ]
  },
  {
   "cell_type": "markdown",
   "metadata": {},
   "source": [
    "We have a R squared value of 0.005 which indicates that only 0.5% of the variability in length of stay is explained by Age. We can come to a conclusion that age does not play a factor in the duration of the patient's stay .\n",
    "Also, since p value is > 0.05 we have sufficient evidence to say that age and length are not related.(cannot reject null hypothesis)\n",
    "\n",
    "Null - hypothesis: Age and length are not related"
   ]
  },
  {
   "cell_type": "code",
   "execution_count": null,
   "metadata": {
    "collapsed": true
   },
   "outputs": [],
   "source": []
  }
 ],
 "metadata": {
  "kernelspec": {
   "display_name": "Python 3",
   "language": "python",
   "name": "python3"
  },
  "language_info": {
   "codemirror_mode": {
    "name": "ipython",
    "version": 3
   },
   "file_extension": ".py",
   "mimetype": "text/x-python",
   "name": "python",
   "nbconvert_exporter": "python",
   "pygments_lexer": "ipython3",
   "version": "3.6.3"
  }
 },
 "nbformat": 4,
 "nbformat_minor": 2
}
